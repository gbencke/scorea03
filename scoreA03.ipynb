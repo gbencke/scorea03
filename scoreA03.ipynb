{
 "cells": [
  {
   "cell_type": "markdown",
   "metadata": {},
   "source": [
    "# Score de pagamentos Itau Cartões A03"
   ]
  },
  {
   "cell_type": "markdown",
   "metadata": {},
   "source": [
    "Esse notebook tem por objetivo criar um modelo de classificação de probabilidade de pagamentos para o segmento A03 da carteira Itau Cartões da Zanc.\n",
    "Faremos uso de uma base de cerca de 100 mil cpfs que tiveram permanencia de 45 completos dentro da empresa.\n",
    "Nosso target é conseguir distinguir quem tem mais chances de recuperação de crédito de quem não tem.\n",
    "\n",
    "Hoje já obtivemos algum resultado utilizando Logistic Regression através da ferramenta Orange.\n",
    "A tarefa inicial será de transportar para esse notebookk com código python o que foi feito no Orange.\n",
    "Na seqüência será proposto uma outra abordagem utilizando Gradient Boosting"
   ]
  },
  {
   "cell_type": "markdown",
   "metadata": {},
   "source": [
    "## Preparação dos dados"
   ]
  },
  {
   "cell_type": "markdown",
   "metadata": {},
   "source": [
    "#### Importando módulos necessários"
   ]
  },
  {
   "cell_type": "code",
   "execution_count": 1,
   "metadata": {},
   "outputs": [],
   "source": [
    "import numpy as np # Sem ele não somos ninguém\n",
    "import pandas as pd # Para carregar os dados em um datafram\n",
    "from sklearn.utils import resample # Para balancear os dados\n",
    "from sklearn.impute import SimpleImputer # Para preencher os campos que estivem com valores nulos\n",
    "from sklearn.compose import ColumnTransformer\n",
    "from sklearn.preprocessing import OneHotEncoder, LabelEncoder # Para transformar colunas categóricas em binárias\n",
    "from sklearn.preprocessing import MinMaxScaler # Para normalização dos campos numéricos\n",
    "from sklearn.linear_model import LogisticRegression # Para instanciar o modelo de Regressão Logística\n",
    "from sklearn.ensemble import GradientBoostingClassifier # Para instanciar o modelo de Gradient Boosting \n",
    "from sklearn.model_selection import cross_val_score # Para avaliação dos modelos"
   ]
  },
  {
   "cell_type": "markdown",
   "metadata": {},
   "source": [
    "#### Importando os dados para um df pandas"
   ]
  },
  {
   "cell_type": "markdown",
   "metadata": {},
   "source": [
    "Vamos importar o dataframe utilizando a funcao read csv padrão do pandas, analisando as colunas, tipos e valores nulos."
   ]
  },
  {
   "cell_type": "code",
   "execution_count": 3,
   "metadata": {},
   "outputs": [],
   "source": [
    "df = pd.read_csv(\"data\\exportar.csv\", encoding=\"latin1\", delimiter=\";\")"
   ]
  },
  {
   "cell_type": "code",
   "execution_count": 4,
   "metadata": {},
   "outputs": [
    {
     "data": {
      "text/html": [
       "<div>\n",
       "<style scoped>\n",
       "    .dataframe tbody tr th:only-of-type {\n",
       "        vertical-align: middle;\n",
       "    }\n",
       "\n",
       "    .dataframe tbody tr th {\n",
       "        vertical-align: top;\n",
       "    }\n",
       "\n",
       "    .dataframe thead th {\n",
       "        text-align: right;\n",
       "    }\n",
       "</style>\n",
       "<table border=\"1\" class=\"dataframe\">\n",
       "  <thead>\n",
       "    <tr style=\"text-align: right;\">\n",
       "      <th></th>\n",
       "      <th>data_status_boletagem</th>\n",
       "      <th>LOJA</th>\n",
       "      <th>LOJA TRATADO</th>\n",
       "      <th>scorecontratante</th>\n",
       "      <th>dataentrada</th>\n",
       "      <th>validadecampanha</th>\n",
       "      <th>atrasocongelado</th>\n",
       "      <th>valorcartacampanha</th>\n",
       "      <th>vlclusters</th>\n",
       "      <th>status_boletagem</th>\n",
       "      <th>desconto</th>\n",
       "      <th>bandeira</th>\n",
       "      <th>publico</th>\n",
       "      <th>matriz</th>\n",
       "      <th>Pagamentos</th>\n",
       "    </tr>\n",
       "  </thead>\n",
       "  <tbody>\n",
       "    <tr>\n",
       "      <th>0</th>\n",
       "      <td>0</td>\n",
       "      <td>ITAUCARD HIPER 2.0</td>\n",
       "      <td>OUTROS</td>\n",
       "      <td>242</td>\n",
       "      <td>22/02/2019 00:00</td>\n",
       "      <td>18/04/2019</td>\n",
       "      <td>204</td>\n",
       "      <td>207,85</td>\n",
       "      <td>276,47</td>\n",
       "      <td>BOLETAR_A_VONTADE</td>\n",
       "      <td>48,19</td>\n",
       "      <td>CC</td>\n",
       "      <td>Não definido</td>\n",
       "      <td>3</td>\n",
       "      <td>0</td>\n",
       "    </tr>\n",
       "    <tr>\n",
       "      <th>1</th>\n",
       "      <td>0</td>\n",
       "      <td>CARTÃO EXTRA 2.0</td>\n",
       "      <td>CARTÃO EXTRA 2.0</td>\n",
       "      <td>246</td>\n",
       "      <td>15/11/2018 00:00</td>\n",
       "      <td>09/01/2019</td>\n",
       "      <td>304</td>\n",
       "      <td>1232,75</td>\n",
       "      <td>2612,6</td>\n",
       "      <td>BOLETAR_A_VONTADE</td>\n",
       "      <td>71,55</td>\n",
       "      <td>FC</td>\n",
       "      <td>Não definido</td>\n",
       "      <td>4</td>\n",
       "      <td>0</td>\n",
       "    </tr>\n",
       "    <tr>\n",
       "      <th>2</th>\n",
       "      <td>0</td>\n",
       "      <td>MAGAZINE LUIZA/LUIZACRED FLEX</td>\n",
       "      <td>MAGAZINE LUIZA/LUIZACRED FLEX</td>\n",
       "      <td>248</td>\n",
       "      <td>17/11/2018 00:00</td>\n",
       "      <td>11/01/2019</td>\n",
       "      <td>361</td>\n",
       "      <td>1106,69</td>\n",
       "      <td>2407,57</td>\n",
       "      <td>BOLETAR_A_VONTADE</td>\n",
       "      <td>77,65</td>\n",
       "      <td>LC</td>\n",
       "      <td>Não definido</td>\n",
       "      <td>3</td>\n",
       "      <td>0</td>\n",
       "    </tr>\n",
       "    <tr>\n",
       "      <th>3</th>\n",
       "      <td>0</td>\n",
       "      <td>MAGAZINE LUIZA/LUIZACRED FLEX</td>\n",
       "      <td>MAGAZINE LUIZA/LUIZACRED FLEX</td>\n",
       "      <td>253</td>\n",
       "      <td>22/04/2019 00:00</td>\n",
       "      <td>14/06/2019</td>\n",
       "      <td>367</td>\n",
       "      <td>2511,74</td>\n",
       "      <td>9817,66</td>\n",
       "      <td>BOLETAR_A_VONTADE</td>\n",
       "      <td>86,74</td>\n",
       "      <td>LC</td>\n",
       "      <td>Não definido</td>\n",
       "      <td>3</td>\n",
       "      <td>0</td>\n",
       "    </tr>\n",
       "    <tr>\n",
       "      <th>4</th>\n",
       "      <td>0</td>\n",
       "      <td>CARTÃO WALMART 2.0</td>\n",
       "      <td>CARTÃO WALMART 2.0</td>\n",
       "      <td>253</td>\n",
       "      <td>15/02/2019 00:00</td>\n",
       "      <td>11/04/2019</td>\n",
       "      <td>362</td>\n",
       "      <td>1320,07</td>\n",
       "      <td>2918,04</td>\n",
       "      <td>BOLETAR_A_VONTADE</td>\n",
       "      <td>77,28</td>\n",
       "      <td>HC</td>\n",
       "      <td>Não definido</td>\n",
       "      <td>3</td>\n",
       "      <td>0</td>\n",
       "    </tr>\n",
       "  </tbody>\n",
       "</table>\n",
       "</div>"
      ],
      "text/plain": [
       "  data_status_boletagem                           LOJA  \\\n",
       "0                     0             ITAUCARD HIPER 2.0   \n",
       "1                     0               CARTÃO EXTRA 2.0   \n",
       "2                     0  MAGAZINE LUIZA/LUIZACRED FLEX   \n",
       "3                     0  MAGAZINE LUIZA/LUIZACRED FLEX   \n",
       "4                     0             CARTÃO WALMART 2.0   \n",
       "\n",
       "                    LOJA TRATADO  scorecontratante       dataentrada  \\\n",
       "0                         OUTROS               242  22/02/2019 00:00   \n",
       "1               CARTÃO EXTRA 2.0               246  15/11/2018 00:00   \n",
       "2  MAGAZINE LUIZA/LUIZACRED FLEX               248  17/11/2018 00:00   \n",
       "3  MAGAZINE LUIZA/LUIZACRED FLEX               253  22/04/2019 00:00   \n",
       "4             CARTÃO WALMART 2.0               253  15/02/2019 00:00   \n",
       "\n",
       "  validadecampanha  atrasocongelado valorcartacampanha vlclusters  \\\n",
       "0       18/04/2019              204             207,85     276,47   \n",
       "1       09/01/2019              304            1232,75     2612,6   \n",
       "2       11/01/2019              361            1106,69    2407,57   \n",
       "3       14/06/2019              367            2511,74    9817,66   \n",
       "4       11/04/2019              362            1320,07    2918,04   \n",
       "\n",
       "    status_boletagem desconto bandeira       publico  matriz  Pagamentos  \n",
       "0  BOLETAR_A_VONTADE    48,19       CC  Não definido       3           0  \n",
       "1  BOLETAR_A_VONTADE    71,55       FC  Não definido       4           0  \n",
       "2  BOLETAR_A_VONTADE    77,65       LC  Não definido       3           0  \n",
       "3  BOLETAR_A_VONTADE    86,74       LC  Não definido       3           0  \n",
       "4  BOLETAR_A_VONTADE    77,28       HC  Não definido       3           0  "
      ]
     },
     "execution_count": 4,
     "metadata": {},
     "output_type": "execute_result"
    }
   ],
   "source": [
    "df.head()"
   ]
  },
  {
   "cell_type": "code",
   "execution_count": 49,
   "metadata": {},
   "outputs": [
    {
     "data": {
      "text/plain": [
       "(111420, 15)"
      ]
     },
     "execution_count": 49,
     "metadata": {},
     "output_type": "execute_result"
    }
   ],
   "source": [
    "df.shape"
   ]
  },
  {
   "cell_type": "code",
   "execution_count": 50,
   "metadata": {},
   "outputs": [
    {
     "data": {
      "text/plain": [
       "data_status_boletagem    object\n",
       "LOJA                     object\n",
       "LOJA TRATADO             object\n",
       "scorecontratante          int64\n",
       "dataentrada              object\n",
       "validadecampanha         object\n",
       "atrasocongelado           int64\n",
       "valorcartacampanha       object\n",
       "vlclusters               object\n",
       "status_boletagem         object\n",
       "desconto                 object\n",
       "bandeira                 object\n",
       "publico                  object\n",
       "matriz                    int64\n",
       "Pagamentos                int64\n",
       "dtype: object"
      ]
     },
     "execution_count": 50,
     "metadata": {},
     "output_type": "execute_result"
    }
   ],
   "source": [
    "df.dtypes"
   ]
  },
  {
   "cell_type": "code",
   "execution_count": 51,
   "metadata": {},
   "outputs": [
    {
     "data": {
      "text/plain": [
       "data_status_boletagem    0\n",
       "LOJA                     0\n",
       "LOJA TRATADO             0\n",
       "scorecontratante         0\n",
       "dataentrada              0\n",
       "validadecampanha         0\n",
       "atrasocongelado          0\n",
       "valorcartacampanha       0\n",
       "vlclusters               0\n",
       "status_boletagem         0\n",
       "desconto                 0\n",
       "bandeira                 0\n",
       "publico                  0\n",
       "matriz                   0\n",
       "Pagamentos               0\n",
       "dtype: int64"
      ]
     },
     "execution_count": 51,
     "metadata": {},
     "output_type": "execute_result"
    }
   ],
   "source": [
    "df.isna().sum()"
   ]
  },
  {
   "cell_type": "markdown",
   "metadata": {},
   "source": [
    "#### Convertendo campos numéricos"
   ]
  },
  {
   "cell_type": "code",
   "execution_count": 52,
   "metadata": {},
   "outputs": [],
   "source": [
    "df.iloc[:,7] = df.iloc[:,7].str.replace(',', '.').astype(float)\n",
    "df.iloc[:,8] = df.iloc[:,8].str.replace(',', '.').astype(float)\n",
    "df.iloc[:,10] = df.iloc[:,10].str.replace(',', '.').astype(float)"
   ]
  },
  {
   "cell_type": "markdown",
   "metadata": {},
   "source": [
    "#### Retirando valores > 2,5mil, pois serão cobrados na célula de AV"
   ]
  },
  {
   "cell_type": "code",
   "execution_count": 53,
   "metadata": {},
   "outputs": [],
   "source": [
    "df = df[df['valorcartacampanha'] < 2500]"
   ]
  },
  {
   "cell_type": "markdown",
   "metadata": {},
   "source": [
    "#### Normalizando campos numéricos de valores de dívida"
   ]
  },
  {
   "cell_type": "code",
   "execution_count": 54,
   "metadata": {},
   "outputs": [],
   "source": [
    "escalador = MinMaxScaler()\n",
    "x = df[['valorcartacampanha']].values\n",
    "escalador.fit(x)\n",
    "x_transformado = escalador.transform(x)\n",
    "df[['valorcartacampanha']] = x_transformado"
   ]
  },
  {
   "cell_type": "code",
   "execution_count": 55,
   "metadata": {},
   "outputs": [],
   "source": [
    "x = df[['vlclusters']].values\n",
    "escalador.fit(x)\n",
    "x_transformado = escalador.transform(x)\n",
    "df[['vlclusters']] = x_transformado"
   ]
  },
  {
   "cell_type": "code",
   "execution_count": 56,
   "metadata": {},
   "outputs": [],
   "source": [
    "x = df[['desconto']].values\n",
    "escalador.fit(x)\n",
    "x_transformado = escalador.transform(x)\n",
    "df[['desconto']] = x_transformado"
   ]
  },
  {
   "cell_type": "markdown",
   "metadata": {},
   "source": [
    "#### Balanceamento dos dados para treinamento"
   ]
  },
  {
   "cell_type": "code",
   "execution_count": 57,
   "metadata": {},
   "outputs": [
    {
     "data": {
      "text/plain": [
       "0    87353\n",
       "1     2073\n",
       "Name: Pagamentos, dtype: int64"
      ]
     },
     "execution_count": 57,
     "metadata": {},
     "output_type": "execute_result"
    }
   ],
   "source": [
    "df['Pagamentos'].value_counts()"
   ]
  },
  {
   "cell_type": "code",
   "execution_count": 58,
   "metadata": {},
   "outputs": [
    {
     "data": {
      "text/plain": [
       "1    2073\n",
       "0    2073\n",
       "Name: Pagamentos, dtype: int64"
      ]
     },
     "execution_count": 58,
     "metadata": {},
     "output_type": "execute_result"
    }
   ],
   "source": [
    "df_maioria = df[df.Pagamentos==0]\n",
    "df_minoria = df[df.Pagamentos==1]\n",
    "df_maioria_randomizado = resample(df_maioria, \n",
    "                                 replace=True,     \n",
    "                                 n_samples=2073,    \n",
    "                                 random_state=123)\n",
    "df_balanceado = pd.concat([df_maioria_randomizado, df_minoria])\n",
    "df_balanceado.Pagamentos.value_counts()"
   ]
  },
  {
   "cell_type": "markdown",
   "metadata": {},
   "source": [
    "#### Dropando colunas de data e coluna já mapeada (Loja)"
   ]
  },
  {
   "cell_type": "code",
   "execution_count": 59,
   "metadata": {},
   "outputs": [
    {
     "data": {
      "text/plain": [
       "20031     16/03/2019 00:00\n",
       "35318     16/02/2019 00:00\n",
       "22414     14/02/2019 00:00\n",
       "78271     15/11/2018 00:00\n",
       "80722     22/12/2018 00:00\n",
       "19636     13/02/2019 00:00\n",
       "93972     13/04/2019 00:00\n",
       "58265     29/11/2018 00:00\n",
       "28130     18/04/2019 00:00\n",
       "84041     29/12/2018 00:00\n",
       "70055     17/01/2019 00:00\n",
       "29165     18/04/2019 00:00\n",
       "91370     09/03/2019 00:00\n",
       "42130     21/02/2019 00:00\n",
       "84060     29/12/2018 00:00\n",
       "22431     14/02/2019 00:00\n",
       "44702     25/01/2019 00:00\n",
       "88294     08/03/2019 00:00\n",
       "19171     14/11/2018 00:00\n",
       "106019    30/03/2019 00:00\n",
       "94239     13/04/2019 00:00\n",
       "57429     30/03/2019 00:00\n",
       "33419     21/12/2018 00:00\n",
       "92436     16/03/2019 00:00\n",
       "106322    30/03/2019 00:00\n",
       "38065     23/01/2019 00:00\n",
       "8418      08/02/2019 00:00\n",
       "29819     20/12/2018 00:00\n",
       "106098    30/03/2019 00:00\n",
       "5163      10/01/2019 00:00\n",
       "                ...       \n",
       "108824    02/03/2019 00:00\n",
       "108850    02/03/2019 00:00\n",
       "108868    02/03/2019 00:00\n",
       "108875    02/03/2019 00:00\n",
       "108950    03/01/2019 00:00\n",
       "108985    03/04/2019 00:00\n",
       "109023    03/04/2019 00:00\n",
       "109045    03/04/2019 00:00\n",
       "109084    18/01/2019 00:00\n",
       "109143    01/03/2019 00:00\n",
       "109511    05/01/2019 00:00\n",
       "109632    05/01/2019 00:00\n",
       "109716    05/04/2019 00:00\n",
       "109727    05/04/2019 00:00\n",
       "110164    31/12/2018 00:00\n",
       "110168    31/12/2018 00:00\n",
       "110282    06/04/2019 00:00\n",
       "110515    06/04/2019 00:00\n",
       "110694    06/04/2019 00:00\n",
       "110761    06/04/2019 00:00\n",
       "110813    06/04/2019 00:00\n",
       "110862    06/04/2019 00:00\n",
       "110931    06/04/2019 00:00\n",
       "110961    06/04/2019 00:00\n",
       "110965    06/04/2019 00:00\n",
       "111019    06/04/2019 00:00\n",
       "111020    06/04/2019 00:00\n",
       "111075    06/04/2019 00:00\n",
       "111078    06/04/2019 00:00\n",
       "111275    07/03/2019 00:00\n",
       "Name: dataentrada, Length: 4146, dtype: object"
      ]
     },
     "execution_count": 59,
     "metadata": {},
     "output_type": "execute_result"
    }
   ],
   "source": [
    "df_balanceado.pop('data_status_boletagem')\n",
    "df_balanceado.pop('LOJA')\n",
    "df_balanceado.pop('validadecampanha')\n",
    "df_balanceado.pop('dataentrada')"
   ]
  },
  {
   "cell_type": "markdown",
   "metadata": {},
   "source": [
    "#### Ajustando valores da coluna público"
   ]
  },
  {
   "cell_type": "code",
   "execution_count": 60,
   "metadata": {},
   "outputs": [
    {
     "data": {
      "text/plain": [
       "Não definido           2805\n",
       "elegivel_excecao        785\n",
       "Elegível Exceção        360\n",
       "Elegivel Excecao        125\n",
       "alto_atrito              46\n",
       "Alto Atrito              24\n",
       "Eleg?¡vel Exce?º?úo       1\n",
       "Name: publico, dtype: int64"
      ]
     },
     "execution_count": 60,
     "metadata": {},
     "output_type": "execute_result"
    }
   ],
   "source": [
    "df_balanceado['publico'].value_counts()"
   ]
  },
  {
   "cell_type": "code",
   "execution_count": 61,
   "metadata": {},
   "outputs": [
    {
     "data": {
      "text/plain": [
       "Não definido        2805\n",
       "elegivel_excecao    1271\n",
       "alto_atrito           70\n",
       "Name: publico, dtype: int64"
      ]
     },
     "execution_count": 61,
     "metadata": {},
     "output_type": "execute_result"
    }
   ],
   "source": [
    "def converte_publico(x):\n",
    "    if x==\"Eleg?¡vel Exce?º?úo\" or x==\"Elegível Exceção\" or x==\"Elegivel Excecao\":\n",
    "        return \"elegivel_excecao\"\n",
    "    elif x==\"Alto Atrito\":\n",
    "        return \"alto_atrito\"\n",
    "    else:\n",
    "        return x\n",
    "\n",
    "df_balanceado['publico'] = df_balanceado['publico'].apply(converte_publico)\n",
    "df_balanceado['publico'].value_counts()"
   ]
  },
  {
   "cell_type": "markdown",
   "metadata": {},
   "source": [
    "#### Transformando colunas categóricas em binárias"
   ]
  },
  {
   "cell_type": "code",
   "execution_count": 62,
   "metadata": {},
   "outputs": [
    {
     "data": {
      "text/plain": [
       "Index(['scorecontratante', 'atrasocongelado', 'valorcartacampanha',\n",
       "       'vlclusters', 'desconto', 'matriz',\n",
       "       'LOJA TRATADO_CARTAO PL EMBANDEIRADO MARISA',\n",
       "       'LOJA TRATADO_CARTAO PL FIC CB S/P',\n",
       "       'LOJA TRATADO_CARTAO PL FIC EXTRA BAND',\n",
       "       'LOJA TRATADO_CARTAO PL FIC EXTRA S/P', 'LOJA TRATADO_CARTÃO EXTRA 2.0',\n",
       "       'LOJA TRATADO_CARTÃO MARISA 2.0', 'LOJA TRATADO_CARTÃO PONTO FRIO 2.0',\n",
       "       'LOJA TRATADO_CARTÃO PRIV LBL FIC ASSAI',\n",
       "       'LOJA TRATADO_CARTÃO WALMART 2.0', 'LOJA TRATADO_CREDICARD CLASSICOS',\n",
       "       'LOJA TRATADO_HIPERCARD', 'LOJA TRATADO_ITAUCARD 2.0 CANAIS DIRETOS',\n",
       "       'LOJA TRATADO_MAGAZINE LUIZA/LUIZACRED FLEX',\n",
       "       'LOJA TRATADO_OPERACOES CREDITO CREDICARD', 'LOJA TRATADO_OUTROS',\n",
       "       'LOJA TRATADO_TAM ITAUCARD 2.0', 'status_boletagem_BOLETAR_A_PARTIR_',\n",
       "       'status_boletagem_BOLETAR_A_VONTADE', 'bandeira_CC', 'bandeira_CR',\n",
       "       'bandeira_FA', 'bandeira_FC', 'bandeira_HC', 'bandeira_LC',\n",
       "       'bandeira_MA', 'publico_Não definido', 'publico_alto_atrito',\n",
       "       'publico_elegivel_excecao'],\n",
       "      dtype='object')"
      ]
     },
     "execution_count": 62,
     "metadata": {},
     "output_type": "execute_result"
    }
   ],
   "source": [
    "y = df_balanceado.pop('Pagamentos').values\n",
    "df_balanceado_dummies = pd.get_dummies(df_balanceado)\n",
    "df_balanceado_dummies.columns"
   ]
  },
  {
   "cell_type": "code",
   "execution_count": 64,
   "metadata": {},
   "outputs": [
    {
     "data": {
      "text/html": [
       "<div>\n",
       "<style scoped>\n",
       "    .dataframe tbody tr th:only-of-type {\n",
       "        vertical-align: middle;\n",
       "    }\n",
       "\n",
       "    .dataframe tbody tr th {\n",
       "        vertical-align: top;\n",
       "    }\n",
       "\n",
       "    .dataframe thead th {\n",
       "        text-align: right;\n",
       "    }\n",
       "</style>\n",
       "<table border=\"1\" class=\"dataframe\">\n",
       "  <thead>\n",
       "    <tr style=\"text-align: right;\">\n",
       "      <th></th>\n",
       "      <th>scorecontratante</th>\n",
       "      <th>atrasocongelado</th>\n",
       "      <th>valorcartacampanha</th>\n",
       "      <th>vlclusters</th>\n",
       "      <th>desconto</th>\n",
       "      <th>matriz</th>\n",
       "      <th>LOJA TRATADO_CARTAO PL EMBANDEIRADO MARISA</th>\n",
       "      <th>LOJA TRATADO_CARTAO PL FIC CB S/P</th>\n",
       "      <th>LOJA TRATADO_CARTAO PL FIC EXTRA BAND</th>\n",
       "      <th>LOJA TRATADO_CARTAO PL FIC EXTRA S/P</th>\n",
       "      <th>...</th>\n",
       "      <th>bandeira_CC</th>\n",
       "      <th>bandeira_CR</th>\n",
       "      <th>bandeira_FA</th>\n",
       "      <th>bandeira_FC</th>\n",
       "      <th>bandeira_HC</th>\n",
       "      <th>bandeira_LC</th>\n",
       "      <th>bandeira_MA</th>\n",
       "      <th>publico_Não definido</th>\n",
       "      <th>publico_alto_atrito</th>\n",
       "      <th>publico_elegivel_excecao</th>\n",
       "    </tr>\n",
       "  </thead>\n",
       "  <tbody>\n",
       "    <tr>\n",
       "      <th>20031</th>\n",
       "      <td>394</td>\n",
       "      <td>251</td>\n",
       "      <td>0.301879</td>\n",
       "      <td>0.086663</td>\n",
       "      <td>0.609293</td>\n",
       "      <td>3</td>\n",
       "      <td>0</td>\n",
       "      <td>0</td>\n",
       "      <td>0</td>\n",
       "      <td>0</td>\n",
       "      <td>...</td>\n",
       "      <td>0</td>\n",
       "      <td>0</td>\n",
       "      <td>0</td>\n",
       "      <td>0</td>\n",
       "      <td>0</td>\n",
       "      <td>1</td>\n",
       "      <td>0</td>\n",
       "      <td>1</td>\n",
       "      <td>0</td>\n",
       "      <td>0</td>\n",
       "    </tr>\n",
       "    <tr>\n",
       "      <th>35318</th>\n",
       "      <td>388</td>\n",
       "      <td>194</td>\n",
       "      <td>0.490913</td>\n",
       "      <td>0.129803</td>\n",
       "      <td>0.425960</td>\n",
       "      <td>3</td>\n",
       "      <td>0</td>\n",
       "      <td>0</td>\n",
       "      <td>0</td>\n",
       "      <td>0</td>\n",
       "      <td>...</td>\n",
       "      <td>0</td>\n",
       "      <td>0</td>\n",
       "      <td>0</td>\n",
       "      <td>0</td>\n",
       "      <td>0</td>\n",
       "      <td>1</td>\n",
       "      <td>0</td>\n",
       "      <td>1</td>\n",
       "      <td>0</td>\n",
       "      <td>0</td>\n",
       "    </tr>\n",
       "    <tr>\n",
       "      <th>22414</th>\n",
       "      <td>406</td>\n",
       "      <td>370</td>\n",
       "      <td>0.300324</td>\n",
       "      <td>0.105185</td>\n",
       "      <td>0.728485</td>\n",
       "      <td>3</td>\n",
       "      <td>0</td>\n",
       "      <td>0</td>\n",
       "      <td>0</td>\n",
       "      <td>0</td>\n",
       "      <td>...</td>\n",
       "      <td>0</td>\n",
       "      <td>0</td>\n",
       "      <td>0</td>\n",
       "      <td>1</td>\n",
       "      <td>0</td>\n",
       "      <td>0</td>\n",
       "      <td>0</td>\n",
       "      <td>1</td>\n",
       "      <td>0</td>\n",
       "      <td>0</td>\n",
       "    </tr>\n",
       "    <tr>\n",
       "      <th>78271</th>\n",
       "      <td>338</td>\n",
       "      <td>251</td>\n",
       "      <td>0.331661</td>\n",
       "      <td>0.080579</td>\n",
       "      <td>0.489394</td>\n",
       "      <td>3</td>\n",
       "      <td>0</td>\n",
       "      <td>0</td>\n",
       "      <td>0</td>\n",
       "      <td>0</td>\n",
       "      <td>...</td>\n",
       "      <td>0</td>\n",
       "      <td>0</td>\n",
       "      <td>0</td>\n",
       "      <td>1</td>\n",
       "      <td>0</td>\n",
       "      <td>0</td>\n",
       "      <td>0</td>\n",
       "      <td>0</td>\n",
       "      <td>0</td>\n",
       "      <td>1</td>\n",
       "    </tr>\n",
       "    <tr>\n",
       "      <th>80722</th>\n",
       "      <td>439</td>\n",
       "      <td>137</td>\n",
       "      <td>0.291657</td>\n",
       "      <td>0.089486</td>\n",
       "      <td>0.486061</td>\n",
       "      <td>3</td>\n",
       "      <td>0</td>\n",
       "      <td>0</td>\n",
       "      <td>0</td>\n",
       "      <td>0</td>\n",
       "      <td>...</td>\n",
       "      <td>1</td>\n",
       "      <td>0</td>\n",
       "      <td>0</td>\n",
       "      <td>0</td>\n",
       "      <td>0</td>\n",
       "      <td>0</td>\n",
       "      <td>0</td>\n",
       "      <td>0</td>\n",
       "      <td>0</td>\n",
       "      <td>1</td>\n",
       "    </tr>\n",
       "  </tbody>\n",
       "</table>\n",
       "<p>5 rows × 34 columns</p>\n",
       "</div>"
      ],
      "text/plain": [
       "       scorecontratante  atrasocongelado  valorcartacampanha  vlclusters  \\\n",
       "20031               394              251            0.301879    0.086663   \n",
       "35318               388              194            0.490913    0.129803   \n",
       "22414               406              370            0.300324    0.105185   \n",
       "78271               338              251            0.331661    0.080579   \n",
       "80722               439              137            0.291657    0.089486   \n",
       "\n",
       "       desconto  matriz  LOJA TRATADO_CARTAO PL EMBANDEIRADO MARISA  \\\n",
       "20031  0.609293       3                                           0   \n",
       "35318  0.425960       3                                           0   \n",
       "22414  0.728485       3                                           0   \n",
       "78271  0.489394       3                                           0   \n",
       "80722  0.486061       3                                           0   \n",
       "\n",
       "       LOJA TRATADO_CARTAO PL FIC CB S/P  \\\n",
       "20031                                  0   \n",
       "35318                                  0   \n",
       "22414                                  0   \n",
       "78271                                  0   \n",
       "80722                                  0   \n",
       "\n",
       "       LOJA TRATADO_CARTAO PL FIC EXTRA BAND  \\\n",
       "20031                                      0   \n",
       "35318                                      0   \n",
       "22414                                      0   \n",
       "78271                                      0   \n",
       "80722                                      0   \n",
       "\n",
       "       LOJA TRATADO_CARTAO PL FIC EXTRA S/P  ...  bandeira_CC  bandeira_CR  \\\n",
       "20031                                     0  ...            0            0   \n",
       "35318                                     0  ...            0            0   \n",
       "22414                                     0  ...            0            0   \n",
       "78271                                     0  ...            0            0   \n",
       "80722                                     0  ...            1            0   \n",
       "\n",
       "       bandeira_FA  bandeira_FC  bandeira_HC  bandeira_LC  bandeira_MA  \\\n",
       "20031            0            0            0            1            0   \n",
       "35318            0            0            0            1            0   \n",
       "22414            0            1            0            0            0   \n",
       "78271            0            1            0            0            0   \n",
       "80722            0            0            0            0            0   \n",
       "\n",
       "       publico_Não definido  publico_alto_atrito  publico_elegivel_excecao  \n",
       "20031                     1                    0                         0  \n",
       "35318                     1                    0                         0  \n",
       "22414                     1                    0                         0  \n",
       "78271                     0                    0                         1  \n",
       "80722                     0                    0                         1  \n",
       "\n",
       "[5 rows x 34 columns]"
      ]
     },
     "execution_count": 64,
     "metadata": {},
     "output_type": "execute_result"
    }
   ],
   "source": [
    "df_balanceado_dummies.head()"
   ]
  },
  {
   "cell_type": "markdown",
   "metadata": {},
   "source": [
    "#### To-do"
   ]
  },
  {
   "cell_type": "markdown",
   "metadata": {},
   "source": [
    "~~1. Antes de gerar as dummies montar uma transformação para a coluna publico corrigindo:\n",
    "'publico_Alto Atrito', 'publico_Eleg?¡vel Exce?º?úo', 'publico_Elegivel Excecao', 'publico_Elegível Exceção','publico_Não definido', 'publico_alto_atrito','publico_elegivel_excecao'~~\n",
    "2. Ajutar a métrica para ROC\n",
    "3. Rodar GridSearch para os hiperparâmetros da regLog e Xgboost otimizando ROC\n",
    "4. Selecionar o modelo e montar .py para predizer através do DW\n",
    "5. Integrar com DW para criar uma coluna com a probabilidade prevista\n",
    "6. Criar tratamento para nulos, pois eles foram retirados nessa amostra e será necessário para treinar no futuro\n"
   ]
  }
 ],
 "metadata": {
  "kernelspec": {
   "display_name": "Python 3",
   "language": "python",
   "name": "python3"
  },
  "language_info": {
   "codemirror_mode": {
    "name": "ipython",
    "version": 3
   },
   "file_extension": ".py",
   "mimetype": "text/x-python",
   "name": "python",
   "nbconvert_exporter": "python",
   "pygments_lexer": "ipython3",
   "version": "3.7.3"
  }
 },
 "nbformat": 4,
 "nbformat_minor": 2
}
