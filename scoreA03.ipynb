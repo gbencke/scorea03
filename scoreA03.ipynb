{
 "cells": [
  {
   "cell_type": "markdown",
   "metadata": {},
   "source": [
    "# Score de pagamentos Itau Cartões A03"
   ]
  },
  {
   "cell_type": "markdown",
   "metadata": {},
   "source": [
    "Esse notebook tem por objetivo criar um modelo de classificação de probabilidade de pagamentos para o segmento A03 da carteira Itau Cartões da Zanc.\n",
    "Faremos uso de uma base de cerca de 100 mil cpfs que tiveram permanencia de 45 completos dentro da empresa.\n",
    "Nosso target é conseguir distinguir quem tem mais chances de recuperação de crédito de quem não tem.\n",
    "\n",
    "Hoje já obtivemos algum resultado utilizando Logistic Regression através da ferramenta Orange.\n",
    "A tarefa inicial será de transportar para esse notebookk com código python o que foi feito no Orange.\n",
    "Na seqüência será proposto uma outra abordagem utilizando Gradient Boosting"
   ]
  },
  {
   "cell_type": "markdown",
   "metadata": {},
   "source": [
    "## Preparação dos dados"
   ]
  },
  {
   "cell_type": "markdown",
   "metadata": {},
   "source": [
    "#### Importando módulos necessários"
   ]
  },
  {
   "cell_type": "code",
   "execution_count": 1,
   "metadata": {},
   "outputs": [],
   "source": [
    "import numpy as np # Sem ele não somos ninguém\n",
    "from matplotlib import pyplot # Sem ele não há beleza\n",
    "import time # Para medir o tempo de execução dos modelos\n",
    "import pandas as pd # Para carregar os dados em um dataframe\n",
    "from sklearn.utils import resample # Para balancear os dados\n",
    "from sklearn.impute import SimpleImputer # Para preencher os campos que estivem com valores nulos\n",
    "from sklearn.preprocessing import MinMaxScaler # Para normalização dos campos numéricos\n",
    "from sklearn.linear_model import LogisticRegression # Para instanciar o modelo de Regressão Logística\n",
    "from sklearn.ensemble import GradientBoostingClassifier # Para instanciar o modelo de Gradient Boosting\n",
    "from sklearn.model_selection import cross_val_score, GridSearchCV, RandomizedSearchCV # Para avaliação dos modelos\n",
    "import pickle # Para salvar o modelo para uso futuro\n",
    "import joblib # Para salvar o modelo para uso futuro"
   ]
  },
  {
   "cell_type": "markdown",
   "metadata": {},
   "source": [
    "#### Importando os dados para um df pandas"
   ]
  },
  {
   "cell_type": "markdown",
   "metadata": {},
   "source": [
    "Vamos importar o dataframe utilizando a funcao read csv padrão do pandas, analisando as colunas, tipos e valores nulos."
   ]
  },
  {
   "cell_type": "code",
   "execution_count": 2,
   "metadata": {},
   "outputs": [
    {
     "data": {
      "text/html": [
       "<div>\n",
       "<style scoped>\n",
       "    .dataframe tbody tr th:only-of-type {\n",
       "        vertical-align: middle;\n",
       "    }\n",
       "\n",
       "    .dataframe tbody tr th {\n",
       "        vertical-align: top;\n",
       "    }\n",
       "\n",
       "    .dataframe thead th {\n",
       "        text-align: right;\n",
       "    }\n",
       "</style>\n",
       "<table border=\"1\" class=\"dataframe\">\n",
       "  <thead>\n",
       "    <tr style=\"text-align: right;\">\n",
       "      <th></th>\n",
       "      <th>loja</th>\n",
       "      <th>renda</th>\n",
       "      <th>cpf_cnpj</th>\n",
       "      <th>scorecontratante</th>\n",
       "      <th>dataentrada</th>\n",
       "      <th>validadecampanha</th>\n",
       "      <th>atrasocongelado</th>\n",
       "      <th>valorcartacampanha</th>\n",
       "      <th>vlclusters</th>\n",
       "      <th>status_boletagem</th>\n",
       "      <th>data_status_boletagem</th>\n",
       "      <th>desconto</th>\n",
       "      <th>bandeira</th>\n",
       "      <th>publico</th>\n",
       "      <th>matriz</th>\n",
       "      <th>Pagamentos</th>\n",
       "      <th>Acionamentos</th>\n",
       "      <th>Valor_Pago</th>\n",
       "    </tr>\n",
       "  </thead>\n",
       "  <tbody>\n",
       "    <tr>\n",
       "      <th>0</th>\n",
       "      <td>CARTÃO PRIV LBL FIC ASSAI</td>\n",
       "      <td>0</td>\n",
       "      <td>74713</td>\n",
       "      <td>425</td>\n",
       "      <td>21/02/2019 00:00</td>\n",
       "      <td>17/04/2019</td>\n",
       "      <td>253</td>\n",
       "      <td>1582.10</td>\n",
       "      <td>1894.25</td>\n",
       "      <td>BOLETAR_A_PARTIR_</td>\n",
       "      <td>17/03/2019</td>\n",
       "      <td>50.72</td>\n",
       "      <td>FC</td>\n",
       "      <td>0</td>\n",
       "      <td>3</td>\n",
       "      <td>0</td>\n",
       "      <td>26</td>\n",
       "      <td>NaN</td>\n",
       "    </tr>\n",
       "    <tr>\n",
       "      <th>1</th>\n",
       "      <td>CARTÃO EXTRA 2.0</td>\n",
       "      <td>0</td>\n",
       "      <td>333751</td>\n",
       "      <td>428</td>\n",
       "      <td>25/04/2019 00:00</td>\n",
       "      <td>19/06/2019</td>\n",
       "      <td>192</td>\n",
       "      <td>392.90</td>\n",
       "      <td>439.42</td>\n",
       "      <td>BOLETAR_A_PARTIR_</td>\n",
       "      <td>19/05/2019</td>\n",
       "      <td>33.60</td>\n",
       "      <td>FC</td>\n",
       "      <td>0</td>\n",
       "      <td>4</td>\n",
       "      <td>0</td>\n",
       "      <td>0</td>\n",
       "      <td>NaN</td>\n",
       "    </tr>\n",
       "    <tr>\n",
       "      <th>2</th>\n",
       "      <td>MAGAZINE LUIZA/LUIZACRED FLEX</td>\n",
       "      <td>0</td>\n",
       "      <td>676527</td>\n",
       "      <td>343</td>\n",
       "      <td>02/03/2019 00:00</td>\n",
       "      <td>26/04/2019</td>\n",
       "      <td>197</td>\n",
       "      <td>1069.87</td>\n",
       "      <td>1353.72</td>\n",
       "      <td>BOLETAR_A_PARTIR_</td>\n",
       "      <td>26/03/2019</td>\n",
       "      <td>42.52</td>\n",
       "      <td>LC</td>\n",
       "      <td>0</td>\n",
       "      <td>3</td>\n",
       "      <td>0</td>\n",
       "      <td>5</td>\n",
       "      <td>NaN</td>\n",
       "    </tr>\n",
       "    <tr>\n",
       "      <th>3</th>\n",
       "      <td>CARTÃO EXTRA 2.0</td>\n",
       "      <td>0</td>\n",
       "      <td>919799</td>\n",
       "      <td>353</td>\n",
       "      <td>13/12/2018 00:00</td>\n",
       "      <td>06/02/2019</td>\n",
       "      <td>369</td>\n",
       "      <td>1002.21</td>\n",
       "      <td>1717.83</td>\n",
       "      <td>BOLETAR_A_PARTIR_</td>\n",
       "      <td>06/01/2019</td>\n",
       "      <td>71.04</td>\n",
       "      <td>FC</td>\n",
       "      <td>0</td>\n",
       "      <td>3</td>\n",
       "      <td>0</td>\n",
       "      <td>7</td>\n",
       "      <td>NaN</td>\n",
       "    </tr>\n",
       "    <tr>\n",
       "      <th>4</th>\n",
       "      <td>CARTÃO EXTRA 2.0</td>\n",
       "      <td>0</td>\n",
       "      <td>1140140</td>\n",
       "      <td>371</td>\n",
       "      <td>18/04/2019 00:00</td>\n",
       "      <td>12/06/2019</td>\n",
       "      <td>307</td>\n",
       "      <td>874.41</td>\n",
       "      <td>988.66</td>\n",
       "      <td>BOLETAR_A_PARTIR_</td>\n",
       "      <td>12/05/2019</td>\n",
       "      <td>53.04</td>\n",
       "      <td>FC</td>\n",
       "      <td>ElegÃ­vel ExceÃ§Ã£o</td>\n",
       "      <td>3</td>\n",
       "      <td>0</td>\n",
       "      <td>1</td>\n",
       "      <td>NaN</td>\n",
       "    </tr>\n",
       "  </tbody>\n",
       "</table>\n",
       "</div>"
      ],
      "text/plain": [
       "                            loja  renda  cpf_cnpj  scorecontratante  \\\n",
       "0     CARTÃO PRIV LBL FIC ASSAI      0     74713               425   \n",
       "1              CARTÃO EXTRA 2.0      0    333751               428   \n",
       "2  MAGAZINE LUIZA/LUIZACRED FLEX      0    676527               343   \n",
       "3              CARTÃO EXTRA 2.0      0    919799               353   \n",
       "4              CARTÃO EXTRA 2.0      0   1140140               371   \n",
       "\n",
       "        dataentrada validadecampanha  atrasocongelado  valorcartacampanha  \\\n",
       "0  21/02/2019 00:00       17/04/2019              253             1582.10   \n",
       "1  25/04/2019 00:00       19/06/2019              192              392.90   \n",
       "2  02/03/2019 00:00       26/04/2019              197             1069.87   \n",
       "3  13/12/2018 00:00       06/02/2019              369             1002.21   \n",
       "4  18/04/2019 00:00       12/06/2019              307              874.41   \n",
       "\n",
       "   vlclusters   status_boletagem data_status_boletagem  desconto bandeira  \\\n",
       "0     1894.25  BOLETAR_A_PARTIR_            17/03/2019     50.72       FC   \n",
       "1      439.42  BOLETAR_A_PARTIR_            19/05/2019     33.60       FC   \n",
       "2     1353.72  BOLETAR_A_PARTIR_            26/03/2019     42.52       LC   \n",
       "3     1717.83  BOLETAR_A_PARTIR_            06/01/2019     71.04       FC   \n",
       "4      988.66  BOLETAR_A_PARTIR_            12/05/2019     53.04       FC   \n",
       "\n",
       "               publico  matriz  Pagamentos  Acionamentos Valor_Pago  \n",
       "0                    0       3           0            26        NaN  \n",
       "1                    0       4           0             0        NaN  \n",
       "2                    0       3           0             5        NaN  \n",
       "3                    0       3           0             7        NaN  \n",
       "4  ElegÃ­vel ExceÃ§Ã£o       3           0             1        NaN  "
      ]
     },
     "execution_count": 2,
     "metadata": {},
     "output_type": "execute_result"
    }
   ],
   "source": [
    "df = pd.read_csv(\"./data/prever_novo.csv\", encoding=\"latin1\", delimiter=\";\", decimal = \",\")\n",
    "df.head()"
   ]
  },
  {
   "cell_type": "code",
   "execution_count": 5,
   "metadata": {},
   "outputs": [
    {
     "data": {
      "text/plain": [
       "(111848, 18)"
      ]
     },
     "execution_count": 5,
     "metadata": {},
     "output_type": "execute_result"
    }
   ],
   "source": [
    "df.shape"
   ]
  },
  {
   "cell_type": "code",
   "execution_count": 3,
   "metadata": {},
   "outputs": [
    {
     "data": {
      "text/plain": [
       "loja                          0\n",
       "renda                         0\n",
       "cpf_cnpj                      0\n",
       "scorecontratante              0\n",
       "dataentrada                   0\n",
       "validadecampanha              0\n",
       "atrasocongelado               0\n",
       "valorcartacampanha            0\n",
       "vlclusters                    0\n",
       "status_boletagem              0\n",
       "data_status_boletagem         0\n",
       "desconto                      0\n",
       "bandeira                      0\n",
       "publico                       0\n",
       "matriz                        0\n",
       "Pagamentos                    0\n",
       "Acionamentos                  0\n",
       "Valor_Pago               109295\n",
       "dtype: int64"
      ]
     },
     "execution_count": 3,
     "metadata": {},
     "output_type": "execute_result"
    }
   ],
   "source": [
    "df.isna().sum()"
   ]
  },
  {
   "cell_type": "markdown",
   "metadata": {},
   "source": [
    "#### Tratando renda nula"
   ]
  },
  {
   "cell_type": "code",
   "execution_count": 4,
   "metadata": {},
   "outputs": [
    {
     "data": {
      "text/plain": [
       "loja                     111848\n",
       "renda                         0\n",
       "cpf_cnpj                 111848\n",
       "scorecontratante         111420\n",
       "dataentrada              111848\n",
       "validadecampanha         111848\n",
       "atrasocongelado          111848\n",
       "valorcartacampanha       111848\n",
       "vlclusters               111813\n",
       "status_boletagem         111848\n",
       "data_status_boletagem    111848\n",
       "desconto                 111810\n",
       "bandeira                 111848\n",
       "publico                  111848\n",
       "matriz                   111812\n",
       "Pagamentos                 2553\n",
       "Acionamentos              59379\n",
       "Valor_Pago               111848\n",
       "dtype: int64"
      ]
     },
     "execution_count": 4,
     "metadata": {},
     "output_type": "execute_result"
    }
   ],
   "source": [
    "df.astype(bool).sum(axis=0)"
   ]
  },
  {
   "cell_type": "code",
   "execution_count": 108,
   "metadata": {},
   "outputs": [],
   "source": [
    "#imp = SimpleImputer(strategy='mean')\n",
    "#imp.fit(df['renda  '].values.reshape(-1,1))\n",
    "#df['renda  '] = imp.transform(df['renda  '].values.reshape(-1,1))"
   ]
  },
  {
   "cell_type": "markdown",
   "metadata": {},
   "source": [
    "#### Normalizando campos numéricos"
   ]
  },
  {
   "cell_type": "code",
   "execution_count": 5,
   "metadata": {},
   "outputs": [],
   "source": [
    "escalador_vlrcartacampanha = MinMaxScaler()\n",
    "escalador_vlrccluster = MinMaxScaler()\n",
    "escalador_vlrdesconto = MinMaxScaler()\n",
    "df['valorcartacampanha_s'] = escalador_vlrcartacampanha.fit_transform(df[['valorcartacampanha']].values)\n",
    "df['vlclusters_s'] = escalador_vlrccluster.fit_transform(df[['vlclusters']].values)\n",
    "df['desconto_s'] = escalador_vlrdesconto.fit_transform(df[['desconto']].values)\n",
    "#escalador_renda = MinMaxScaler()\n",
    "#df['renda  '] = escalador_renda.fit_transform(df[['renda  ']].values)"
   ]
  },
  {
   "cell_type": "code",
   "execution_count": 143,
   "metadata": {},
   "outputs": [
    {
     "data": {
      "text/plain": [
       "MAGAZINE LUIZA/LUIZACRED FLEX                32317\n",
       "HIPERCARD                                    14884\n",
       "CARTÃO EXTRA 2.0                            12054\n",
       "CARTÃO PONTO FRIO 2.0                        6828\n",
       "CARTÃO MARISA 2.0                            6362\n",
       "CARTÃO WALMART 2.0                           6305\n",
       "CREDICARD CLASSICOS                           4567\n",
       "CARTÃO PRIV LBL FIC ASSAI                    3906\n",
       "CARTAO PL FIC CB S/P                          3402\n",
       "ITAUCARD 2.0 CANAIS DIRETOS                   3080\n",
       "OPERACOES CREDITO CREDICARD                   2721\n",
       "CARTAO PL FIC EXTRA S/P                       2154\n",
       "TAM ITAUCARD 2.0                              1450\n",
       "CARTAO PL EMBANDEIRADO MARISA                 1435\n",
       "CARTAO PL FIC EXTRA BAND                      1161\n",
       "Cartao Cobranded Netshoes 2.0                 1108\n",
       "PL PURO ITAUCARD LOJISTA                       930\n",
       "TITULARES CARTOES DE CREDITO                   752\n",
       "FAI PL EMBANDEIRADO AMERICANAS                 536\n",
       "CARTÃO IPIRANGA 2.0                           484\n",
       "WALMART 2.0 HIPER NACIONAL                     432\n",
       "EXCLUSIVE CREDICARD                            429\n",
       "ITAUCARD HIPER 2.0                             347\n",
       "MUFFATO CREDICARD                              263\n",
       "CREDICOMP ITAUC 2.0  PARCERIAS                 243\n",
       "COMP UNI CARTAO CANAIS DIRETOS                 240\n",
       "FLEX ITAUCARD LOJISTA                          236\n",
       "CREDICARD UNIVERSITARIO                        229\n",
       "Fiat Convencional                              218\n",
       "DSUPER CREDICARD                               216\n",
       "                                             ...  \n",
       "COMPJUR PL FIC                                   6\n",
       "CREDICOMP UNICO IPIRANGA                         5\n",
       "COMPJUR CREDICARD CLASSICOS                      4\n",
       "EMOCOES CREDICARD                                4\n",
       "CREDICOMP UNICO COBRANDED FAI                    4\n",
       "CREDICOMP EP -  CREDICARD                        4\n",
       "CREDCOMP CARTÃ£O IPIRANGA 2.0                    4\n",
       "CREDICOMP DSUPER CREDICARD                       3\n",
       "COMPJUR ITAUCARD ACC                             3\n",
       "COMPJUR CARTAO MARISA 2.0                        3\n",
       "Cartao Cobranded Netshoes 1.0                    3\n",
       "COMPJUR PL MARISA                                2\n",
       "Black Uniclass/ NCC                              2\n",
       "CREDICOMP CASHBACK CREDICARD                     2\n",
       "CREDICOMP UNICO FLEX  LOJISTA                    2\n",
       "COMPJUR WALMART HIPER/SAMS2.0                    2\n",
       "CREDICOMP AVON CREDICARD                         2\n",
       "CREDICOMP UNICO EP - FAI                         2\n",
       "COMPJUR CARTÃ£O PONTO FRIO 2.0                   2\n",
       "CARTAO COBRAND FIC PAO ACUCAR                    1\n",
       "COMPJUR EP - CREDICARD                           1\n",
       "Credicomp TIM                                    1\n",
       "FAI EP CARTAO CREDICOMP                          1\n",
       "CREDICOMP UNICO EP - FIT                         1\n",
       "COMPJUR FIT                                      1\n",
       "COMPJUR PL PURO LOJISTA                          1\n",
       "NOVO UNICARD                                     1\n",
       "COMPJUR A. SENNA ITAUCARD                        1\n",
       "COMPJUR FAI CARTAO                               1\n",
       "CARTÃ£O FIAT ITAUCARD                            1\n",
       "Name: loja, Length: 102, dtype: int64"
      ]
     },
     "execution_count": 143,
     "metadata": {},
     "output_type": "execute_result"
    }
   ],
   "source": [
    "df['loja'].value_counts()"
   ]
  },
  {
   "cell_type": "markdown",
   "metadata": {},
   "source": [
    "#### Tratando Loja"
   ]
  },
  {
   "cell_type": "code",
   "execution_count": 6,
   "metadata": {},
   "outputs": [
    {
     "data": {
      "text/plain": [
       "OUTROS                           44677\n",
       "MAGAZINE LUIZA/LUIZACRED FLEX    32317\n",
       "HIPERCARD                        14884\n",
       "CREDICARD CLASSICOS               4567\n",
       "CARTAO PL FIC CB S/P              3402\n",
       "ITAUCARD 2.0 CANAIS DIRETOS       3080\n",
       "OPERACOES CREDITO CREDICARD       2721\n",
       "CARTAO PL FIC EXTRA S/P           2154\n",
       "TAM ITAUCARD 2.0                  1450\n",
       "CARTAO PL EMBANDEIRADO MARISA     1435\n",
       "CARTAO PL FIC EXTRA BAND          1161\n",
       "Name: loja, dtype: int64"
      ]
     },
     "execution_count": 6,
     "metadata": {},
     "output_type": "execute_result"
    }
   ],
   "source": [
    "def trata_loja(x):\n",
    "    lojas = ['CARTÃO EXTRA 2.0',\n",
    "             'CARTÃO MARISA 2.0',\n",
    "             'CARTAO PL EMBANDEIRADO MARISA',\n",
    "             'CARTAO PL FIC CB S/P',\n",
    "             'CARTAO PL FIC EXTRA BAND',\n",
    "             'CARTAO PL FIC EXTRA S/P',\n",
    "             'CARTÃO PONTO FRIO 2.0',\n",
    "             'CARTÃO PRIV LBL FIC ASSAI',\n",
    "             'CARTÃO WALMART 2.0',\n",
    "             'CREDICARD CLASSICOS',\n",
    "             'HIPERCARD',\n",
    "             'ITAUCARD 2.0 CANAIS DIRETOS',\n",
    "             'MAGAZINE LUIZA/LUIZACRED FLEX',\n",
    "             'OPERACOES CREDITO CREDICARD',             \n",
    "             'TAM ITAUCARD 2.0']\n",
    "    if x in lojas:\n",
    "        return x\n",
    "    else:\n",
    "        return 'OUTROS'\n",
    "df['loja'] = df['loja'].apply(trata_loja)\n",
    "df['loja'].value_counts()"
   ]
  },
  {
   "cell_type": "markdown",
   "metadata": {},
   "source": [
    "#### Tratando público"
   ]
  },
  {
   "cell_type": "code",
   "execution_count": 7,
   "metadata": {},
   "outputs": [
    {
     "data": {
      "text/plain": [
       "0                         70152\n",
       "elegivel_excecao          23983\n",
       "ElegÃ­vel ExceÃ§Ã£o       11902\n",
       "Elegivel Excecao           2639\n",
       "alto_atrito                1939\n",
       "Alto Atrito                1090\n",
       "Eleg?Â¡vel Exce?Âº?Ãºo      142\n",
       "883000140672                  1\n",
       "Name: publico, dtype: int64"
      ]
     },
     "execution_count": 7,
     "metadata": {},
     "output_type": "execute_result"
    }
   ],
   "source": [
    "df['publico'].value_counts()"
   ]
  },
  {
   "cell_type": "code",
   "execution_count": 8,
   "metadata": {},
   "outputs": [
    {
     "data": {
      "text/plain": [
       "nao_definido        70153\n",
       "elegivel_excecao    38666\n",
       "alto_atrito          3029\n",
       "Name: publico, dtype: int64"
      ]
     },
     "execution_count": 8,
     "metadata": {},
     "output_type": "execute_result"
    }
   ],
   "source": [
    "def converte_publico(x):\n",
    "    if x==\"Eleg?¡vel Exce?º?úo\" or x==\"Elegível Exceção\" or x==\"Elegivel Excecao\" or x==\"ElegÃ­vel ExceÃ§Ã£o\" or x==\"Eleg?Â¡vel Exce?Âº?Ãºo\" or x==\"Eleg?el Exce?o\" or x==\"Eleg??vel Exce????\":\n",
    "        return \"elegivel_excecao\"\n",
    "    elif x==\"Alto Atrito\":\n",
    "        return \"alto_atrito\"\n",
    "    elif x==\"0\" or x==\"883000140672\" or x==\"8,83E+11\":\n",
    "        return \"nao_definido\"\n",
    "    else:\n",
    "        return x\n",
    "\n",
    "df['publico'] = df['publico'].apply(converte_publico)\n",
    "df['publico'].value_counts()"
   ]
  },
  {
   "cell_type": "markdown",
   "metadata": {},
   "source": [
    "#### Transformando colunas categóricas em binárias"
   ]
  },
  {
   "cell_type": "code",
   "execution_count": 9,
   "metadata": {},
   "outputs": [],
   "source": [
    "colunas_treino = ['loja',\n",
    "                  'renda',\n",
    "                  'scorecontratante',\n",
    "                  'atrasocongelado',\n",
    "                  'valorcartacampanha_s',\n",
    "                  'vlclusters_s',\n",
    "                  'status_boletagem',\n",
    "                  'desconto_s',\n",
    "                  'bandeira',\n",
    "                  'publico',\n",
    "                  'matriz'\n",
    "                 ]"
   ]
  },
  {
   "cell_type": "code",
   "execution_count": 10,
   "metadata": {},
   "outputs": [],
   "source": [
    "dummies = pd.get_dummies(df[colunas_treino])\n",
    "dropado = df.drop(colunas_treino,axis=1)\n",
    "df = pd.concat([dummies,dropado], axis=1)"
   ]
  },
  {
   "cell_type": "code",
   "execution_count": 11,
   "metadata": {},
   "outputs": [
    {
     "data": {
      "text/html": [
       "<div>\n",
       "<style scoped>\n",
       "    .dataframe tbody tr th:only-of-type {\n",
       "        vertical-align: middle;\n",
       "    }\n",
       "\n",
       "    .dataframe tbody tr th {\n",
       "        vertical-align: top;\n",
       "    }\n",
       "\n",
       "    .dataframe thead th {\n",
       "        text-align: right;\n",
       "    }\n",
       "</style>\n",
       "<table border=\"1\" class=\"dataframe\">\n",
       "  <thead>\n",
       "    <tr style=\"text-align: right;\">\n",
       "      <th></th>\n",
       "      <th>renda</th>\n",
       "      <th>scorecontratante</th>\n",
       "      <th>atrasocongelado</th>\n",
       "      <th>valorcartacampanha_s</th>\n",
       "      <th>vlclusters_s</th>\n",
       "      <th>desconto_s</th>\n",
       "      <th>matriz</th>\n",
       "      <th>loja_CARTAO PL EMBANDEIRADO MARISA</th>\n",
       "      <th>loja_CARTAO PL FIC CB S/P</th>\n",
       "      <th>loja_CARTAO PL FIC EXTRA BAND</th>\n",
       "      <th>...</th>\n",
       "      <th>cpf_cnpj</th>\n",
       "      <th>dataentrada</th>\n",
       "      <th>validadecampanha</th>\n",
       "      <th>valorcartacampanha</th>\n",
       "      <th>vlclusters</th>\n",
       "      <th>data_status_boletagem</th>\n",
       "      <th>desconto</th>\n",
       "      <th>Pagamentos</th>\n",
       "      <th>Acionamentos</th>\n",
       "      <th>Valor_Pago</th>\n",
       "    </tr>\n",
       "  </thead>\n",
       "  <tbody>\n",
       "    <tr>\n",
       "      <th>0</th>\n",
       "      <td>0</td>\n",
       "      <td>425</td>\n",
       "      <td>253</td>\n",
       "      <td>0.023061</td>\n",
       "      <td>0.019467</td>\n",
       "      <td>0.512323</td>\n",
       "      <td>3</td>\n",
       "      <td>0</td>\n",
       "      <td>0</td>\n",
       "      <td>0</td>\n",
       "      <td>...</td>\n",
       "      <td>74713</td>\n",
       "      <td>21/02/2019 00:00</td>\n",
       "      <td>17/04/2019</td>\n",
       "      <td>1582.10</td>\n",
       "      <td>1894.25</td>\n",
       "      <td>17/03/2019</td>\n",
       "      <td>50.72</td>\n",
       "      <td>0</td>\n",
       "      <td>26</td>\n",
       "      <td>NaN</td>\n",
       "    </tr>\n",
       "    <tr>\n",
       "      <th>1</th>\n",
       "      <td>0</td>\n",
       "      <td>428</td>\n",
       "      <td>192</td>\n",
       "      <td>0.005607</td>\n",
       "      <td>0.004516</td>\n",
       "      <td>0.339394</td>\n",
       "      <td>4</td>\n",
       "      <td>0</td>\n",
       "      <td>0</td>\n",
       "      <td>0</td>\n",
       "      <td>...</td>\n",
       "      <td>333751</td>\n",
       "      <td>25/04/2019 00:00</td>\n",
       "      <td>19/06/2019</td>\n",
       "      <td>392.90</td>\n",
       "      <td>439.42</td>\n",
       "      <td>19/05/2019</td>\n",
       "      <td>33.60</td>\n",
       "      <td>0</td>\n",
       "      <td>0</td>\n",
       "      <td>NaN</td>\n",
       "    </tr>\n",
       "    <tr>\n",
       "      <th>2</th>\n",
       "      <td>0</td>\n",
       "      <td>343</td>\n",
       "      <td>197</td>\n",
       "      <td>0.015543</td>\n",
       "      <td>0.013912</td>\n",
       "      <td>0.429495</td>\n",
       "      <td>3</td>\n",
       "      <td>0</td>\n",
       "      <td>0</td>\n",
       "      <td>0</td>\n",
       "      <td>...</td>\n",
       "      <td>676527</td>\n",
       "      <td>02/03/2019 00:00</td>\n",
       "      <td>26/04/2019</td>\n",
       "      <td>1069.87</td>\n",
       "      <td>1353.72</td>\n",
       "      <td>26/03/2019</td>\n",
       "      <td>42.52</td>\n",
       "      <td>0</td>\n",
       "      <td>5</td>\n",
       "      <td>NaN</td>\n",
       "    </tr>\n",
       "    <tr>\n",
       "      <th>3</th>\n",
       "      <td>0</td>\n",
       "      <td>353</td>\n",
       "      <td>369</td>\n",
       "      <td>0.014550</td>\n",
       "      <td>0.017654</td>\n",
       "      <td>0.717576</td>\n",
       "      <td>3</td>\n",
       "      <td>0</td>\n",
       "      <td>0</td>\n",
       "      <td>0</td>\n",
       "      <td>...</td>\n",
       "      <td>919799</td>\n",
       "      <td>13/12/2018 00:00</td>\n",
       "      <td>06/02/2019</td>\n",
       "      <td>1002.21</td>\n",
       "      <td>1717.83</td>\n",
       "      <td>06/01/2019</td>\n",
       "      <td>71.04</td>\n",
       "      <td>0</td>\n",
       "      <td>7</td>\n",
       "      <td>NaN</td>\n",
       "    </tr>\n",
       "    <tr>\n",
       "      <th>4</th>\n",
       "      <td>0</td>\n",
       "      <td>371</td>\n",
       "      <td>307</td>\n",
       "      <td>0.012674</td>\n",
       "      <td>0.010160</td>\n",
       "      <td>0.535758</td>\n",
       "      <td>3</td>\n",
       "      <td>0</td>\n",
       "      <td>0</td>\n",
       "      <td>0</td>\n",
       "      <td>...</td>\n",
       "      <td>1140140</td>\n",
       "      <td>18/04/2019 00:00</td>\n",
       "      <td>12/06/2019</td>\n",
       "      <td>874.41</td>\n",
       "      <td>988.66</td>\n",
       "      <td>12/05/2019</td>\n",
       "      <td>53.04</td>\n",
       "      <td>0</td>\n",
       "      <td>1</td>\n",
       "      <td>NaN</td>\n",
       "    </tr>\n",
       "  </tbody>\n",
       "</table>\n",
       "<p>5 rows × 42 columns</p>\n",
       "</div>"
      ],
      "text/plain": [
       "   renda  scorecontratante  atrasocongelado  valorcartacampanha_s  \\\n",
       "0      0               425              253              0.023061   \n",
       "1      0               428              192              0.005607   \n",
       "2      0               343              197              0.015543   \n",
       "3      0               353              369              0.014550   \n",
       "4      0               371              307              0.012674   \n",
       "\n",
       "   vlclusters_s  desconto_s  matriz  loja_CARTAO PL EMBANDEIRADO MARISA  \\\n",
       "0      0.019467    0.512323       3                                   0   \n",
       "1      0.004516    0.339394       4                                   0   \n",
       "2      0.013912    0.429495       3                                   0   \n",
       "3      0.017654    0.717576       3                                   0   \n",
       "4      0.010160    0.535758       3                                   0   \n",
       "\n",
       "   loja_CARTAO PL FIC CB S/P  loja_CARTAO PL FIC EXTRA BAND  ...  cpf_cnpj  \\\n",
       "0                          0                              0  ...     74713   \n",
       "1                          0                              0  ...    333751   \n",
       "2                          0                              0  ...    676527   \n",
       "3                          0                              0  ...    919799   \n",
       "4                          0                              0  ...   1140140   \n",
       "\n",
       "        dataentrada  validadecampanha  valorcartacampanha  vlclusters  \\\n",
       "0  21/02/2019 00:00        17/04/2019             1582.10     1894.25   \n",
       "1  25/04/2019 00:00        19/06/2019              392.90      439.42   \n",
       "2  02/03/2019 00:00        26/04/2019             1069.87     1353.72   \n",
       "3  13/12/2018 00:00        06/02/2019             1002.21     1717.83   \n",
       "4  18/04/2019 00:00        12/06/2019              874.41      988.66   \n",
       "\n",
       "   data_status_boletagem  desconto  Pagamentos  Acionamentos  Valor_Pago  \n",
       "0             17/03/2019     50.72           0            26         NaN  \n",
       "1             19/05/2019     33.60           0             0         NaN  \n",
       "2             26/03/2019     42.52           0             5         NaN  \n",
       "3             06/01/2019     71.04           0             7         NaN  \n",
       "4             12/05/2019     53.04           0             1         NaN  \n",
       "\n",
       "[5 rows x 42 columns]"
      ]
     },
     "execution_count": 11,
     "metadata": {},
     "output_type": "execute_result"
    }
   ],
   "source": [
    "df.head()"
   ]
  },
  {
   "cell_type": "markdown",
   "metadata": {},
   "source": [
    "#### Separando treino e teste"
   ]
  },
  {
   "cell_type": "code",
   "execution_count": 12,
   "metadata": {},
   "outputs": [
    {
     "data": {
      "text/plain": [
       "0    109295\n",
       "1      2553\n",
       "Name: Pagamentos, dtype: int64"
      ]
     },
     "execution_count": 12,
     "metadata": {},
     "output_type": "execute_result"
    }
   ],
   "source": [
    "df['Pagamentos'].value_counts()"
   ]
  },
  {
   "cell_type": "code",
   "execution_count": 14,
   "metadata": {},
   "outputs": [
    {
     "data": {
      "text/plain": [
       "1    2553\n",
       "0    2533\n",
       "Name: Pagamentos, dtype: int64"
      ]
     },
     "execution_count": 14,
     "metadata": {},
     "output_type": "execute_result"
    }
   ],
   "source": [
    "df_maioria = df[df.Pagamentos==0]\n",
    "df_minoria = df[df.Pagamentos==1]\n",
    "df_maioria_randomizado = resample(df_maioria, \n",
    "                                 replace=True,     \n",
    "                                 n_samples=2533,    \n",
    "                                 random_state=123)\n",
    "df_balanceado = pd.concat([df_maioria_randomizado, df_minoria])\n",
    "df_balanceado.Pagamentos.value_counts()"
   ]
  },
  {
   "cell_type": "code",
   "execution_count": 81,
   "metadata": {},
   "outputs": [
    {
     "data": {
      "text/plain": [
       "Index(['renda', 'scorecontratante', 'atrasocongelado', 'valorcartacampanha_s',\n",
       "       'vlclusters_s', 'desconto_s', 'matriz',\n",
       "       'loja_CARTAO PL EMBANDEIRADO MARISA', 'loja_CARTAO PL FIC CB S/P',\n",
       "       'loja_CARTAO PL FIC EXTRA BAND', 'loja_CARTAO PL FIC EXTRA S/P',\n",
       "       'loja_CREDICARD CLASSICOS', 'loja_HIPERCARD',\n",
       "       'loja_ITAUCARD 2.0 CANAIS DIRETOS',\n",
       "       'loja_MAGAZINE LUIZA/LUIZACRED FLEX',\n",
       "       'loja_OPERACOES CREDITO CREDICARD', 'loja_OUTROS',\n",
       "       'loja_TAM ITAUCARD 2.0', 'status_boletagem_0',\n",
       "       'status_boletagem_BOLETAR_A_PARTIR_',\n",
       "       'status_boletagem_BOLETAR_A_VONTADE', 'bandeira_CC', 'bandeira_CR',\n",
       "       'bandeira_FA', 'bandeira_FC', 'bandeira_FT', 'bandeira_HC',\n",
       "       'bandeira_LC', 'bandeira_MA', 'publico_alto_atrito',\n",
       "       'publico_elegivel_excecao', 'publico_nao_definido'],\n",
       "      dtype='object')"
      ]
     },
     "execution_count": 81,
     "metadata": {},
     "output_type": "execute_result"
    }
   ],
   "source": [
    "dummies.columns"
   ]
  },
  {
   "cell_type": "code",
   "execution_count": 15,
   "metadata": {},
   "outputs": [],
   "source": [
    "y_train = df_balanceado.Pagamentos.values\n",
    "X_train = df_balanceado[dummies.columns].values\n",
    "y_test = df.Pagamentos.values\n",
    "X_test = df[dummies.columns].values"
   ]
  },
  {
   "cell_type": "markdown",
   "metadata": {},
   "source": [
    "#### Treinando e predizendo com LogReg\n"
   ]
  },
  {
   "cell_type": "code",
   "execution_count": 152,
   "metadata": {},
   "outputs": [
    {
     "name": "stdout",
     "output_type": "stream",
     "text": [
      "Best: 0.649766 using {'C': 3.5, 'dual': False, 'max_iter': 100}\n",
      "Execution time: 4.174563884735107 ms\n"
     ]
    },
    {
     "name": "stderr",
     "output_type": "stream",
     "text": [
      "c:\\program files\\python37\\lib\\site-packages\\sklearn\\linear_model\\logistic.py:432: FutureWarning: Default solver will be changed to 'lbfgs' in 0.22. Specify a solver to silence this warning.\n",
      "  FutureWarning)\n"
     ]
    }
   ],
   "source": [
    "param_grid_lr = {\n",
    "    'dual': [True,False],\n",
    "    'max_iter': [100,110,120,130,140],\n",
    "    'C': [1.0,1.5,2.0,2.5,3.5]\n",
    "}\n",
    "lr = LogisticRegression()\n",
    "grid_lr = GridSearchCV(estimator=lr, param_grid=param_grid_lr, cv=5, scoring='roc_auc', n_jobs=-1)\n",
    "start_time = time.time()\n",
    "grid_result = grid_lr.fit(X_train, y_train)\n",
    "print(\"Best: %f using %s\" % (grid_result.best_score_, grid_result.best_params_))\n",
    "print(\"Execution time: \" + str((time.time() - start_time)) + ' ms')"
   ]
  },
  {
   "cell_type": "code",
   "execution_count": 133,
   "metadata": {},
   "outputs": [
    {
     "ename": "NameError",
     "evalue": "name 'df_dummies' is not defined",
     "output_type": "error",
     "traceback": [
      "\u001b[1;31m---------------------------------------------------------------------------\u001b[0m",
      "\u001b[1;31mNameError\u001b[0m                                 Traceback (most recent call last)",
      "\u001b[1;32m<ipython-input-133-fd950517bde9>\u001b[0m in \u001b[0;36m<module>\u001b[1;34m\u001b[0m\n\u001b[0;32m      1\u001b[0m \u001b[0mpred\u001b[0m \u001b[1;33m=\u001b[0m \u001b[0mgrid_result\u001b[0m\u001b[1;33m.\u001b[0m\u001b[0mpredict_proba\u001b[0m\u001b[1;33m(\u001b[0m\u001b[0mX_test\u001b[0m\u001b[1;33m)\u001b[0m\u001b[1;33m\u001b[0m\u001b[0m\n\u001b[1;32m----> 2\u001b[1;33m \u001b[0mdf_predicted\u001b[0m \u001b[1;33m=\u001b[0m \u001b[0mdf_dummies\u001b[0m\u001b[1;33m\u001b[0m\u001b[0m\n\u001b[0m\u001b[0;32m      3\u001b[0m \u001b[0mdf_predicted\u001b[0m\u001b[1;33m[\u001b[0m\u001b[1;34m'pagamentos real'\u001b[0m\u001b[1;33m]\u001b[0m \u001b[1;33m=\u001b[0m \u001b[0my_test\u001b[0m\u001b[1;33m\u001b[0m\u001b[0m\n\u001b[0;32m      4\u001b[0m \u001b[0mdf_predicted\u001b[0m\u001b[1;33m[\u001b[0m\u001b[1;34m'prob prevista'\u001b[0m\u001b[1;33m]\u001b[0m \u001b[1;33m=\u001b[0m \u001b[0mpred\u001b[0m\u001b[1;33m[\u001b[0m\u001b[1;33m:\u001b[0m\u001b[1;33m,\u001b[0m\u001b[1;36m1\u001b[0m\u001b[1;33m]\u001b[0m\u001b[1;33m\u001b[0m\u001b[0m\n\u001b[0;32m      5\u001b[0m \u001b[0mdf_predicted\u001b[0m\u001b[1;33m.\u001b[0m\u001b[0mto_csv\u001b[0m\u001b[1;33m(\u001b[0m\u001b[1;34m'logreg_predicted.csv'\u001b[0m\u001b[1;33m,\u001b[0m \u001b[0mdecimal\u001b[0m\u001b[1;33m=\u001b[0m\u001b[1;34m','\u001b[0m\u001b[1;33m,\u001b[0m \u001b[0msep\u001b[0m\u001b[1;33m=\u001b[0m\u001b[1;34m\";\"\u001b[0m\u001b[1;33m)\u001b[0m\u001b[1;33m\u001b[0m\u001b[0m\n",
      "\u001b[1;31mNameError\u001b[0m: name 'df_dummies' is not defined"
     ]
    }
   ],
   "source": [
    "pred = grid_result.predict_proba(X_test)\n",
    "df_predicted = df_dummies\n",
    "df_predicted['pagamentos real'] = y_test\n",
    "df_predicted['prob prevista'] = pred[:,1]\n",
    "df_predicted.to_csv('logreg_predicted.csv', decimal=',', sep=\";\")"
   ]
  },
  {
   "cell_type": "markdown",
   "metadata": {},
   "source": [
    "#### Treinando e predizendo com XgBoosting"
   ]
  },
  {
   "cell_type": "code",
   "execution_count": 16,
   "metadata": {},
   "outputs": [
    {
     "name": "stdout",
     "output_type": "stream",
     "text": [
      "Best: 0.679602 using {'min_samples_leaf': 5, 'n_estimators': 200, 'subsample': 0.6}\n",
      "Execution time: 0.00043773651123046875 ms\n"
     ]
    }
   ],
   "source": [
    "param_grid_xg = {\n",
    "        'n_estimators':[100,200,400,600],\n",
    "        'min_samples_leaf':[5,10,20],\n",
    "        'subsample': [0.6, 0.8, 1.0]\n",
    "        }\n",
    "xg = GradientBoostingClassifier(learning_rate=0.02)\n",
    "grid_xg = GridSearchCV(estimator=xg, param_grid=param_grid_xg, cv=5, scoring='roc_auc', n_jobs=-1)\n",
    "grid_result_xg = grid_xg.fit(X_train, y_train)\n",
    "start_time = time.time()\n",
    "print(\"Best: %f using %s\" % (grid_result_xg.best_score_, grid_result_xg.best_params_))\n",
    "print(\"Execution time: \" + str((time.time() - start_time)) + ' ms')"
   ]
  },
  {
   "cell_type": "code",
   "execution_count": 135,
   "metadata": {},
   "outputs": [
    {
     "ename": "PermissionError",
     "evalue": "[Errno 13] Permission denied: 'data\\\\xgboost_train_result_predict.csv'",
     "output_type": "error",
     "traceback": [
      "\u001b[1;31m---------------------------------------------------------------------------\u001b[0m",
      "\u001b[1;31mPermissionError\u001b[0m                           Traceback (most recent call last)",
      "\u001b[1;32m<ipython-input-135-897dcf85c444>\u001b[0m in \u001b[0;36m<module>\u001b[1;34m\u001b[0m\n\u001b[0;32m      2\u001b[0m \u001b[0mdf_predicted\u001b[0m \u001b[1;33m=\u001b[0m \u001b[0mdf\u001b[0m\u001b[1;33m\u001b[0m\u001b[0m\n\u001b[0;32m      3\u001b[0m \u001b[0mdf_predicted\u001b[0m\u001b[1;33m[\u001b[0m\u001b[1;34m'prob prevista'\u001b[0m\u001b[1;33m]\u001b[0m \u001b[1;33m=\u001b[0m \u001b[0mpred\u001b[0m\u001b[1;33m[\u001b[0m\u001b[1;33m:\u001b[0m\u001b[1;33m,\u001b[0m\u001b[1;36m1\u001b[0m\u001b[1;33m]\u001b[0m\u001b[1;33m\u001b[0m\u001b[0m\n\u001b[1;32m----> 4\u001b[1;33m \u001b[0mdf_predicted\u001b[0m\u001b[1;33m.\u001b[0m\u001b[0mto_csv\u001b[0m\u001b[1;33m(\u001b[0m\u001b[1;34mr'data\\xgboost_train_result_predict.csv'\u001b[0m\u001b[1;33m,\u001b[0m \u001b[0mdecimal\u001b[0m\u001b[1;33m=\u001b[0m\u001b[1;34m','\u001b[0m\u001b[1;33m,\u001b[0m \u001b[0msep\u001b[0m\u001b[1;33m=\u001b[0m\u001b[1;34m\";\"\u001b[0m\u001b[1;33m)\u001b[0m\u001b[1;33m\u001b[0m\u001b[0m\n\u001b[0m",
      "\u001b[1;32mc:\\program files\\python37\\lib\\site-packages\\pandas\\core\\generic.py\u001b[0m in \u001b[0;36mto_csv\u001b[1;34m(self, path_or_buf, sep, na_rep, float_format, columns, header, index, index_label, mode, encoding, compression, quoting, quotechar, line_terminator, chunksize, tupleize_cols, date_format, doublequote, escapechar, decimal)\u001b[0m\n\u001b[0;32m   3018\u001b[0m                                  \u001b[0mdoublequote\u001b[0m\u001b[1;33m=\u001b[0m\u001b[0mdoublequote\u001b[0m\u001b[1;33m,\u001b[0m\u001b[1;33m\u001b[0m\u001b[0m\n\u001b[0;32m   3019\u001b[0m                                  escapechar=escapechar, decimal=decimal)\n\u001b[1;32m-> 3020\u001b[1;33m         \u001b[0mformatter\u001b[0m\u001b[1;33m.\u001b[0m\u001b[0msave\u001b[0m\u001b[1;33m(\u001b[0m\u001b[1;33m)\u001b[0m\u001b[1;33m\u001b[0m\u001b[0m\n\u001b[0m\u001b[0;32m   3021\u001b[0m \u001b[1;33m\u001b[0m\u001b[0m\n\u001b[0;32m   3022\u001b[0m         \u001b[1;32mif\u001b[0m \u001b[0mpath_or_buf\u001b[0m \u001b[1;32mis\u001b[0m \u001b[1;32mNone\u001b[0m\u001b[1;33m:\u001b[0m\u001b[1;33m\u001b[0m\u001b[0m\n",
      "\u001b[1;32mc:\\program files\\python37\\lib\\site-packages\\pandas\\io\\formats\\csvs.py\u001b[0m in \u001b[0;36msave\u001b[1;34m(self)\u001b[0m\n\u001b[0;32m    155\u001b[0m             f, handles = _get_handle(self.path_or_buf, self.mode,\n\u001b[0;32m    156\u001b[0m                                      \u001b[0mencoding\u001b[0m\u001b[1;33m=\u001b[0m\u001b[0mself\u001b[0m\u001b[1;33m.\u001b[0m\u001b[0mencoding\u001b[0m\u001b[1;33m,\u001b[0m\u001b[1;33m\u001b[0m\u001b[0m\n\u001b[1;32m--> 157\u001b[1;33m                                      compression=self.compression)\n\u001b[0m\u001b[0;32m    158\u001b[0m             \u001b[0mclose\u001b[0m \u001b[1;33m=\u001b[0m \u001b[1;32mTrue\u001b[0m\u001b[1;33m\u001b[0m\u001b[0m\n\u001b[0;32m    159\u001b[0m \u001b[1;33m\u001b[0m\u001b[0m\n",
      "\u001b[1;32mc:\\program files\\python37\\lib\\site-packages\\pandas\\io\\common.py\u001b[0m in \u001b[0;36m_get_handle\u001b[1;34m(path_or_buf, mode, encoding, compression, memory_map, is_text)\u001b[0m\n\u001b[0;32m    422\u001b[0m         \u001b[1;32melif\u001b[0m \u001b[0mencoding\u001b[0m\u001b[1;33m:\u001b[0m\u001b[1;33m\u001b[0m\u001b[0m\n\u001b[0;32m    423\u001b[0m             \u001b[1;31m# Python 3 and encoding\u001b[0m\u001b[1;33m\u001b[0m\u001b[1;33m\u001b[0m\u001b[0m\n\u001b[1;32m--> 424\u001b[1;33m             \u001b[0mf\u001b[0m \u001b[1;33m=\u001b[0m \u001b[0mopen\u001b[0m\u001b[1;33m(\u001b[0m\u001b[0mpath_or_buf\u001b[0m\u001b[1;33m,\u001b[0m \u001b[0mmode\u001b[0m\u001b[1;33m,\u001b[0m \u001b[0mencoding\u001b[0m\u001b[1;33m=\u001b[0m\u001b[0mencoding\u001b[0m\u001b[1;33m,\u001b[0m \u001b[0mnewline\u001b[0m\u001b[1;33m=\u001b[0m\u001b[1;34m\"\"\u001b[0m\u001b[1;33m)\u001b[0m\u001b[1;33m\u001b[0m\u001b[0m\n\u001b[0m\u001b[0;32m    425\u001b[0m         \u001b[1;32melif\u001b[0m \u001b[0mis_text\u001b[0m\u001b[1;33m:\u001b[0m\u001b[1;33m\u001b[0m\u001b[0m\n\u001b[0;32m    426\u001b[0m             \u001b[1;31m# Python 3 and no explicit encoding\u001b[0m\u001b[1;33m\u001b[0m\u001b[1;33m\u001b[0m\u001b[0m\n",
      "\u001b[1;31mPermissionError\u001b[0m: [Errno 13] Permission denied: 'data\\\\xgboost_train_result_predict.csv'"
     ]
    }
   ],
   "source": [
    "pred = grid_result_xg.predict_proba(X_test)\n",
    "df_predicted = df\n",
    "df_predicted['prob prevista'] = pred[:,1]\n",
    "df_predicted.to_csv(r'data\\xgboost_train_result_predict.csv', decimal=',', sep=\";\")"
   ]
  },
  {
   "cell_type": "markdown",
   "metadata": {},
   "source": [
    "#### Feature Importance"
   ]
  },
  {
   "cell_type": "code",
   "execution_count": 17,
   "metadata": {},
   "outputs": [
    {
     "data": {
      "image/png": "[encoded data removed]",
      "text/plain": [
       "<Figure size 432x288 with 1 Axes>"
      ]
     },
     "metadata": {
      "needs_background": "light"
     },
     "output_type": "display_data"
    }
   ],
   "source": [
    "pyplot.bar(range(len(grid_result_xg.best_estimator_.feature_importances_)), grid_result_xg.best_estimator_.feature_importances_)\n",
    "pyplot.xticks(range(len(grid_result_xg.best_estimator_.feature_importances_)),dummies.columns, rotation='vertical')\n",
    "pyplot.show()"
   ]
  },
  {
   "cell_type": "markdown",
   "metadata": {},
   "source": [
    "#### Salvando os Scalers e o Xgboosting"
   ]
  },
  {
   "cell_type": "code",
   "execution_count": 19,
   "metadata": {},
   "outputs": [
    {
     "data": {
      "text/plain": [
       "['models/xgboosting_a03.pkl']"
      ]
     },
     "execution_count": 19,
     "metadata": {},
     "output_type": "execute_result"
    }
   ],
   "source": [
    "joblib.dump(escalador_vlrcartacampanha, r\"models/scaler_vlrcartacampanha_a03.pkl\")\n",
    "joblib.dump(escalador_vlrccluster, r\"models/scaler_vlrcluster_a03.pkl\")\n",
    "joblib.dump(escalador_vlrdesconto, r\"models/scaler_vlrdesconto_a03.pkl\")\n",
    "joblib.dump(grid_result_xg, r\"models/xgboosting_a03.pkl\")"
   ]
  },
  {
   "cell_type": "markdown",
   "metadata": {},
   "source": [
    " #### To-do"
   ]
  },
  {
   "cell_type": "markdown",
   "metadata": {},
   "source": [
    "1. Adicionar a variavel do bom bureau\n",
    "2. Transformar matriz em dummy\n",
    "3. Abrir mais o produto\n",
    "4. Trabalhar na seleção de features para ver se melhora a roc\n",
    "5. Testar outros modelos para ver assertividade\n",
    "6. Criar tratamento para nulos, pois eles foram retirados nessa amostra e será necessário para treinar no futuro\n",
    "7. Analisar outras opções além do minmaxscaller"
   ]
  }
 ],
 "metadata": {
  "kernelspec": {
   "display_name": "Python 3",
   "language": "python",
   "name": "python3"
  },
  "language_info": {
   "codemirror_mode": {
    "name": "ipython",
    "version": 3
   },
   "file_extension": ".py",
   "mimetype": "text/x-python",
   "name": "python",
   "nbconvert_exporter": "python",
   "pygments_lexer": "ipython3",
   "version": "3.7.3"
  }
 },
 "nbformat": 4,
 "nbformat_minor": 2
}
