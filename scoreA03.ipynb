{
 "cells": [
  {
   "cell_type": "markdown",
   "metadata": {},
   "source": [
    "# Score de pagamentos Itau Cartões A03"
   ]
  },
  {
   "cell_type": "markdown",
   "metadata": {},
   "source": [
    "Esse notebook tem por objetivo criar um modelo de classificação de probabilidade de pagamentos para o segmento A03 da carteira Itau Cartões da Zanc.\n",
    "Faremos uso de uma base de cerca de 100 mil cpfs que tiveram permanencia de 45 completos dentro da empresa.\n",
    "Nosso target é conseguir distinguir quem tem mais chances de recuperação de crédito de quem não tem.\n",
    "\n",
    "Hoje já obtivemos algum resultado utilizando Logistic Regression através da ferramenta Orange.\n",
    "A tarefa inicial será de transportar para esse notebookk com código python o que foi feito no Orange.\n",
    "Na seqüência será proposto uma outra abordagem utilizando Gradient Boosting"
   ]
  },
  {
   "cell_type": "markdown",
   "metadata": {},
   "source": [
    "## Preparação dos dados"
   ]
  },
  {
   "cell_type": "markdown",
   "metadata": {},
   "source": [
    "#### Importando módulos necessários"
   ]
  },
  {
   "cell_type": "code",
   "execution_count": 493,
   "metadata": {},
   "outputs": [],
   "source": [
    "import numpy as np # Sem ele não somos ninguém\n",
    "import math\n",
    "from matplotlib import pyplot # Sem ele não há beleza\n",
    "import time # Para medir o tempo de execução dos modelos\n",
    "import pandas as pd # Para carregar os dados em um dataframe\n",
    "import pandas_profiling as pf\n",
    "from sklearn.pipeline import Pipeline\n",
    "from sklearn.utils import resample # Para balancear os dados\n",
    "from sklearn.impute import SimpleImputer # Para preencher os campos que estivem com valores nulos\n",
    "from sklearn.preprocessing import MinMaxScaler, StandardScaler # Para normalização dos campos numéricos\n",
    "from sklearn.impute import SimpleImputer\n",
    "from sklearn.linear_model import LogisticRegression # Para instanciar o modelo de Regressão Logística\n",
    "from sklearn.ensemble import GradientBoostingClassifier # Para instanciar o modelo de Gradient Boosting\n",
    "from sklearn.model_selection import cross_val_score, GridSearchCV, RandomizedSearchCV # Para avaliação dos modelos\n",
    "import pickle # Para salvar o modelo para uso futuro\n",
    "import joblib # Para salvar o modelo para uso futuro"
   ]
  },
  {
   "cell_type": "markdown",
   "metadata": {},
   "source": [
    "#### Importando os dados para um df pandas"
   ]
  },
  {
   "cell_type": "markdown",
   "metadata": {},
   "source": [
    "Vamos importar o dataframe utilizando a funcao read csv padrão do pandas, analisando as colunas, tipos e valores nulos."
   ]
  },
  {
   "cell_type": "code",
   "execution_count": 513,
   "metadata": {},
   "outputs": [],
   "source": [
    "df = pd.read_csv(\"./data/prever_novo_tent.csv\", encoding=\"latin1\", delimiter=\";\", decimal = \",\")\n",
    "#df.head()"
   ]
  },
  {
   "cell_type": "code",
   "execution_count": 138,
   "metadata": {},
   "outputs": [],
   "source": [
    "# pf.ProfileReport(df)"
   ]
  },
  {
   "cell_type": "code",
   "execution_count": 514,
   "metadata": {},
   "outputs": [],
   "source": [
    "df = df[df['cups']!=0]"
   ]
  },
  {
   "cell_type": "markdown",
   "metadata": {},
   "source": [
    "### Randomizando para balancear treino e teste"
   ]
  },
  {
   "cell_type": "code",
   "execution_count": 496,
   "metadata": {},
   "outputs": [
    {
     "data": {
      "text/plain": [
       "0    21519\n",
       "1     1598\n",
       "Name: Pagamentos, dtype: int64"
      ]
     },
     "execution_count": 496,
     "metadata": {},
     "output_type": "execute_result"
    }
   ],
   "source": [
    "df.Pagamentos.value_counts()"
   ]
  },
  {
   "cell_type": "code",
   "execution_count": 515,
   "metadata": {},
   "outputs": [
    {
     "data": {
      "text/plain": [
       "1    1598\n",
       "0    1598\n",
       "Name: Pagamentos, dtype: int64"
      ]
     },
     "execution_count": 515,
     "metadata": {},
     "output_type": "execute_result"
    }
   ],
   "source": [
    "df_maioria = df[df.Pagamentos==0]\n",
    "df_minoria = df[df.Pagamentos==1]\n",
    "df_maioria_randomizado = resample(df_maioria, \n",
    "                                 replace=True,     \n",
    "                                 n_samples=1598,    \n",
    "                                 random_state=123)\n",
    "df_balanceado = pd.concat([df_maioria_randomizado, df_minoria])\n",
    "df_balanceado.Pagamentos.value_counts()"
   ]
  },
  {
   "cell_type": "code",
   "execution_count": 516,
   "metadata": {},
   "outputs": [],
   "source": [
    "#X = df.drop(['Pagamentos','renda','vlclusters','dataentrada','validadecampanha','cpf_cnpj'],axis =1)\n",
    "#Y = df['Pagamentos']\n",
    "X = df_balanceado.drop(['Pagamentos','renda','vlclusters','dataentrada','validadecampanha', 'cpf_cnpj'],axis =1)\n",
    "Y = df_balanceado['Pagamentos']"
   ]
  },
  {
   "cell_type": "markdown",
   "metadata": {},
   "source": [
    "### Tratando nulos, inserindo zeros"
   ]
  },
  {
   "cell_type": "code",
   "execution_count": 56,
   "metadata": {},
   "outputs": [
    {
     "data": {
      "text/plain": [
       "loja                      object\n",
       "cpf_cnpj                   int64\n",
       "scorecontratante           int64\n",
       "dataentrada               object\n",
       "validadecampanha          object\n",
       "atrasocongelado            int64\n",
       "valorcartacampanha       float64\n",
       "status_boletagem          object\n",
       "data_status_boletagem     object\n",
       "desconto                 float64\n",
       "bandeira                  object\n",
       "publico                   object\n",
       "matriz                     int64\n",
       "tem_tel_no_bureau          int64\n",
       "tent                      object\n",
       "alos                     float64\n",
       "cups                     float64\n",
       "dtype: object"
      ]
     },
     "execution_count": 56,
     "metadata": {},
     "output_type": "execute_result"
    }
   ],
   "source": [
    "X.dtypes"
   ]
  },
  {
   "cell_type": "code",
   "execution_count": 32,
   "metadata": {},
   "outputs": [
    {
     "data": {
      "text/plain": [
       "loja                     0\n",
       "renda                    0\n",
       "cpf_cnpj                 0\n",
       "scorecontratante         0\n",
       "dataentrada              0\n",
       "validadecampanha         0\n",
       "atrasocongelado          0\n",
       "valorcartacampanha       0\n",
       "vlclusters               0\n",
       "status_boletagem         0\n",
       "data_status_boletagem    0\n",
       "desconto                 0\n",
       "bandeira                 0\n",
       "publico                  0\n",
       "matriz                   0\n",
       "tem_tel_no_bureau        0\n",
       "tent                     0\n",
       "alos                     0\n",
       "cups                     0\n",
       "dtype: int64"
      ]
     },
     "execution_count": 32,
     "metadata": {},
     "output_type": "execute_result"
    }
   ],
   "source": [
    "X.isna().sum()"
   ]
  },
  {
   "cell_type": "code",
   "execution_count": 37,
   "metadata": {},
   "outputs": [
    {
     "data": {
      "text/plain": [
       "(111848, 20)"
      ]
     },
     "execution_count": 37,
     "metadata": {},
     "output_type": "execute_result"
    }
   ],
   "source": [
    "df.shape"
   ]
  },
  {
   "cell_type": "code",
   "execution_count": 517,
   "metadata": {},
   "outputs": [],
   "source": [
    "imp_zero = SimpleImputer(fill_value=0)\n",
    "imp_zero.fit(X[['tent','cups','alos']])\n",
    "X[['tent','cups','alos']] = imp_zero.transform(X[['tent','cups','alos']])"
   ]
  },
  {
   "cell_type": "markdown",
   "metadata": {},
   "source": [
    "### Tratando zeros, com mais frequente"
   ]
  },
  {
   "cell_type": "code",
   "execution_count": 518,
   "metadata": {},
   "outputs": [],
   "source": [
    "imp_mostfreq = SimpleImputer(strategy='most_frequent',missing_values=0)\n",
    "imp_mostfreq.fit(X[['matriz']])\n",
    "X[['matriz']] = imp_mostfreq.transform(X[['matriz']])"
   ]
  },
  {
   "cell_type": "code",
   "execution_count": 49,
   "metadata": {},
   "outputs": [
    {
     "data": {
      "text/plain": [
       "loja                     111848\n",
       "renda                         0\n",
       "cpf_cnpj                 111848\n",
       "scorecontratante         111848\n",
       "dataentrada              111848\n",
       "validadecampanha         111848\n",
       "atrasocongelado          111848\n",
       "valorcartacampanha       111848\n",
       "vlclusters               111848\n",
       "status_boletagem         111848\n",
       "data_status_boletagem    111848\n",
       "desconto                 111848\n",
       "bandeira                 111848\n",
       "publico                  111848\n",
       "matriz                   111848\n",
       "tem_tel_no_bureau         74718\n",
       "tent                     111847\n",
       "alos                      66527\n",
       "cups                      23117\n",
       "dtype: int64"
      ]
     },
     "execution_count": 49,
     "metadata": {},
     "output_type": "execute_result"
    }
   ],
   "source": [
    "X.astype(bool).sum(axis=0)"
   ]
  },
  {
   "cell_type": "markdown",
   "metadata": {},
   "source": [
    "### Tratando zeros, com média"
   ]
  },
  {
   "cell_type": "code",
   "execution_count": 519,
   "metadata": {},
   "outputs": [],
   "source": [
    "imp_mean = SimpleImputer(strategy='mean',missing_values=0)\n",
    "imp_mean.fit(X[['scorecontratante','desconto']])\n",
    "X[['scorecontratante','desconto']] = imp_mean.transform(X[['scorecontratante','desconto']])"
   ]
  },
  {
   "cell_type": "markdown",
   "metadata": {},
   "source": [
    "### Normalizando campos numéricos"
   ]
  },
  {
   "cell_type": "code",
   "execution_count": 520,
   "metadata": {},
   "outputs": [],
   "source": [
    "escalador_vlrcartacampanha = StandardScaler()\n",
    "escalador_vlrdesconto = StandardScaler()\n",
    "escalador_scorecontratante = StandardScaler()\n",
    "escalador_atrasocongelado = StandardScaler()\n",
    "X['valorcartacampanha'] = escalador_vlrcartacampanha.fit_transform(X[['valorcartacampanha']].values)\n",
    "X['desconto'] = escalador_vlrdesconto.fit_transform(X[['desconto']].values)\n",
    "X['scorecontratante'] = escalador_scorecontratante.fit_transform(X[['scorecontratante']].values)\n",
    "X['atrasocongelado'] = escalador_atrasocongelado.fit_transform(X[['atrasocongelado']].values)"
   ]
  },
  {
   "cell_type": "code",
   "execution_count": 521,
   "metadata": {},
   "outputs": [],
   "source": [
    "scaler_min_max = MinMaxScaler()\n",
    "scaler_min_max.fit(X[['tent','alos','cups']])\n",
    "X[['tent','alos','cups']] = scaler_min_max.transform(X[['tent','alos','cups']])"
   ]
  },
  {
   "cell_type": "markdown",
   "metadata": {},
   "source": [
    "### Convertendo numéricas em categóricas"
   ]
  },
  {
   "cell_type": "code",
   "execution_count": 522,
   "metadata": {},
   "outputs": [],
   "source": [
    "X['matriz'] = X['matriz'].astype('object')\n",
    "X['tem_tel_no_bureau'] = X['tem_tel_no_bureau'].astype('object')"
   ]
  },
  {
   "cell_type": "markdown",
   "metadata": {},
   "source": [
    "### Tratando Loja e bandeira"
   ]
  },
  {
   "cell_type": "code",
   "execution_count": 523,
   "metadata": {},
   "outputs": [],
   "source": [
    "def combina_bandeira_loja(x):\n",
    "    lista_cc = ['ITAUCARD 2.0 CANAIS DIRETOS','OPERACOES CREDITO CREDICARD',\n",
    "                'TAM ITAUCARD 2.0','Cartao Cobranded Netshoes 2.0',\n",
    "                'PL PURO ITAUCARD LOJISTA','TITULARES CARTOES DE CREDITO',\n",
    "                'CARTÃO IPIRANGA 2.0']\n",
    "    if x[0][0]==\"F\":\n",
    "        return \"FC\"\n",
    "    elif x[0] != \"CC\":\n",
    "        return x[0]\n",
    "    elif x[1] in lista_cc:\n",
    "        return \"CC_\"+x[1]\n",
    "    else:\n",
    "        return \"CC_OUTROS\"\n",
    "    \n",
    "X['bandeira_loja'] = X[['bandeira','loja']].apply(combina_bandeira_loja, axis=1)"
   ]
  },
  {
   "cell_type": "markdown",
   "metadata": {},
   "source": [
    "#### Tratando público"
   ]
  },
  {
   "cell_type": "code",
   "execution_count": 524,
   "metadata": {},
   "outputs": [
    {
     "data": {
      "text/plain": [
       "0                   2149\n",
       "elegivel excecao     983\n",
       "alto_atrito           36\n",
       "Alto Atrito           28\n",
       "Name: publico, dtype: int64"
      ]
     },
     "execution_count": 524,
     "metadata": {},
     "output_type": "execute_result"
    }
   ],
   "source": [
    "X['publico'].value_counts()"
   ]
  },
  {
   "cell_type": "code",
   "execution_count": 525,
   "metadata": {},
   "outputs": [
    {
     "data": {
      "text/plain": [
       "nao_definido        2149\n",
       "elegivel excecao     983\n",
       "alto_atrito           64\n",
       "Name: publico, dtype: int64"
      ]
     },
     "execution_count": 525,
     "metadata": {},
     "output_type": "execute_result"
    }
   ],
   "source": [
    "def converte_publico(x):\n",
    "    if x==\"Eleg?¡vel Exce?º?úo\" or x==\"Elegível Exceção\" or x==\"Elegivel Excecao\" or x==\"ElegÃ­vel ExceÃ§Ã£o\" or x==\"Eleg?Â¡vel Exce?Âº?Ãºo\" or x==\"Eleg?el Exce?o\" or x==\"Eleg??vel Exce????\":\n",
    "        return \"elegivel_excecao\"\n",
    "    elif x==\"Alto Atrito\":\n",
    "        return \"alto_atrito\"\n",
    "    elif x==\"0\" or x==\"883000140672\" or x==\"8,83E+11\":\n",
    "        return \"nao_definido\"\n",
    "    else:\n",
    "        return x\n",
    "\n",
    "X['publico'] = X['publico'].apply(converte_publico)\n",
    "X['publico'].value_counts()"
   ]
  },
  {
   "cell_type": "markdown",
   "metadata": {},
   "source": [
    "#### Transformando colunas categóricas em binárias"
   ]
  },
  {
   "cell_type": "code",
   "execution_count": 526,
   "metadata": {},
   "outputs": [],
   "source": [
    "X = X.drop(['tent','alos','cups','data_status_boletagem','bandeira', 'loja'],axis=1) # retirando data boletagem e loja por enquanto"
   ]
  },
  {
   "cell_type": "code",
   "execution_count": 461,
   "metadata": {},
   "outputs": [
    {
     "data": {
      "text/html": [
       "<div>\n",
       "<style scoped>\n",
       "    .dataframe tbody tr th:only-of-type {\n",
       "        vertical-align: middle;\n",
       "    }\n",
       "\n",
       "    .dataframe tbody tr th {\n",
       "        vertical-align: top;\n",
       "    }\n",
       "\n",
       "    .dataframe thead th {\n",
       "        text-align: right;\n",
       "    }\n",
       "</style>\n",
       "<table border=\"1\" class=\"dataframe\">\n",
       "  <thead>\n",
       "    <tr style=\"text-align: right;\">\n",
       "      <th></th>\n",
       "      <th>scorecontratante</th>\n",
       "      <th>atrasocongelado</th>\n",
       "      <th>valorcartacampanha</th>\n",
       "      <th>status_boletagem</th>\n",
       "      <th>desconto</th>\n",
       "      <th>publico</th>\n",
       "      <th>matriz</th>\n",
       "      <th>tem_tel_no_bureau</th>\n",
       "      <th>bandeira_loja</th>\n",
       "    </tr>\n",
       "  </thead>\n",
       "  <tbody>\n",
       "    <tr>\n",
       "      <th>0</th>\n",
       "      <td>0.861762</td>\n",
       "      <td>-0.353210</td>\n",
       "      <td>-0.158512</td>\n",
       "      <td>BOLETAR_A_PARTIR_</td>\n",
       "      <td>-0.366406</td>\n",
       "      <td>nao_definido</td>\n",
       "      <td>3</td>\n",
       "      <td>1</td>\n",
       "      <td>FC</td>\n",
       "    </tr>\n",
       "    <tr>\n",
       "      <th>1</th>\n",
       "      <td>0.925412</td>\n",
       "      <td>-1.217300</td>\n",
       "      <td>-0.559350</td>\n",
       "      <td>BOLETAR_A_PARTIR_</td>\n",
       "      <td>-1.536194</td>\n",
       "      <td>nao_definido</td>\n",
       "      <td>4</td>\n",
       "      <td>1</td>\n",
       "      <td>FC</td>\n",
       "    </tr>\n",
       "    <tr>\n",
       "      <th>2</th>\n",
       "      <td>-0.878000</td>\n",
       "      <td>-1.146473</td>\n",
       "      <td>-0.331167</td>\n",
       "      <td>BOLETAR_A_PARTIR_</td>\n",
       "      <td>-0.926702</td>\n",
       "      <td>nao_definido</td>\n",
       "      <td>3</td>\n",
       "      <td>1</td>\n",
       "      <td>LC</td>\n",
       "    </tr>\n",
       "    <tr>\n",
       "      <th>3</th>\n",
       "      <td>-0.665834</td>\n",
       "      <td>1.289978</td>\n",
       "      <td>-0.353973</td>\n",
       "      <td>BOLETAR_A_PARTIR_</td>\n",
       "      <td>1.022033</td>\n",
       "      <td>nao_definido</td>\n",
       "      <td>3</td>\n",
       "      <td>0</td>\n",
       "      <td>FC</td>\n",
       "    </tr>\n",
       "    <tr>\n",
       "      <th>4</th>\n",
       "      <td>-0.283935</td>\n",
       "      <td>0.411722</td>\n",
       "      <td>-0.397050</td>\n",
       "      <td>BOLETAR_A_PARTIR_</td>\n",
       "      <td>-0.207884</td>\n",
       "      <td>elegivel excecao</td>\n",
       "      <td>3</td>\n",
       "      <td>1</td>\n",
       "      <td>FC</td>\n",
       "    </tr>\n",
       "  </tbody>\n",
       "</table>\n",
       "</div>"
      ],
      "text/plain": [
       "   scorecontratante  atrasocongelado  valorcartacampanha   status_boletagem  \\\n",
       "0          0.861762        -0.353210           -0.158512  BOLETAR_A_PARTIR_   \n",
       "1          0.925412        -1.217300           -0.559350  BOLETAR_A_PARTIR_   \n",
       "2         -0.878000        -1.146473           -0.331167  BOLETAR_A_PARTIR_   \n",
       "3         -0.665834         1.289978           -0.353973  BOLETAR_A_PARTIR_   \n",
       "4         -0.283935         0.411722           -0.397050  BOLETAR_A_PARTIR_   \n",
       "\n",
       "   desconto           publico matriz tem_tel_no_bureau bandeira_loja  \n",
       "0 -0.366406      nao_definido      3                 1            FC  \n",
       "1 -1.536194      nao_definido      4                 1            FC  \n",
       "2 -0.926702      nao_definido      3                 1            LC  \n",
       "3  1.022033      nao_definido      3                 0            FC  \n",
       "4 -0.207884  elegivel excecao      3                 1            FC  "
      ]
     },
     "execution_count": 461,
     "metadata": {},
     "output_type": "execute_result"
    }
   ],
   "source": [
    "X.head()"
   ]
  },
  {
   "cell_type": "code",
   "execution_count": 527,
   "metadata": {},
   "outputs": [],
   "source": [
    "X = pd.get_dummies(X)"
   ]
  },
  {
   "cell_type": "code",
   "execution_count": 511,
   "metadata": {},
   "outputs": [
    {
     "data": {
      "text/html": [
       "<div>\n",
       "<style scoped>\n",
       "    .dataframe tbody tr th:only-of-type {\n",
       "        vertical-align: middle;\n",
       "    }\n",
       "\n",
       "    .dataframe tbody tr th {\n",
       "        vertical-align: top;\n",
       "    }\n",
       "\n",
       "    .dataframe thead th {\n",
       "        text-align: right;\n",
       "    }\n",
       "</style>\n",
       "<table border=\"1\" class=\"dataframe\">\n",
       "  <thead>\n",
       "    <tr style=\"text-align: right;\">\n",
       "      <th></th>\n",
       "      <th>scorecontratante</th>\n",
       "      <th>atrasocongelado</th>\n",
       "      <th>valorcartacampanha</th>\n",
       "      <th>status_boletagem</th>\n",
       "      <th>desconto</th>\n",
       "      <th>publico</th>\n",
       "      <th>matriz</th>\n",
       "      <th>tem_tel_no_bureau</th>\n",
       "      <th>bandeira_loja</th>\n",
       "    </tr>\n",
       "  </thead>\n",
       "  <tbody>\n",
       "    <tr>\n",
       "      <th>103743</th>\n",
       "      <td>2.159811</td>\n",
       "      <td>-0.178011</td>\n",
       "      <td>-0.052298</td>\n",
       "      <td>BOLETAR_A_PARTIR_</td>\n",
       "      <td>0.425411</td>\n",
       "      <td>elegivel excecao</td>\n",
       "      <td>3</td>\n",
       "      <td>1</td>\n",
       "      <td>CC_TITULARES CARTOES DE CREDITO</td>\n",
       "    </tr>\n",
       "    <tr>\n",
       "      <th>81277</th>\n",
       "      <td>0.344661</td>\n",
       "      <td>-0.907916</td>\n",
       "      <td>-0.491754</td>\n",
       "      <td>BOLETAR_A_PARTIR_</td>\n",
       "      <td>-0.895106</td>\n",
       "      <td>nao_definido</td>\n",
       "      <td>3</td>\n",
       "      <td>1</td>\n",
       "      <td>FC</td>\n",
       "    </tr>\n",
       "    <tr>\n",
       "      <th>91419</th>\n",
       "      <td>-0.283007</td>\n",
       "      <td>0.503233</td>\n",
       "      <td>0.013278</td>\n",
       "      <td>BOLETAR_A_PARTIR_</td>\n",
       "      <td>-0.449067</td>\n",
       "      <td>nao_definido</td>\n",
       "      <td>4</td>\n",
       "      <td>0</td>\n",
       "      <td>HC</td>\n",
       "    </tr>\n",
       "    <tr>\n",
       "      <th>79446</th>\n",
       "      <td>-0.333899</td>\n",
       "      <td>-0.360488</td>\n",
       "      <td>-0.336068</td>\n",
       "      <td>BOLETAR_A_PARTIR_</td>\n",
       "      <td>-0.794368</td>\n",
       "      <td>nao_definido</td>\n",
       "      <td>3</td>\n",
       "      <td>1</td>\n",
       "      <td>FC</td>\n",
       "    </tr>\n",
       "    <tr>\n",
       "      <th>41227</th>\n",
       "      <td>-0.995496</td>\n",
       "      <td>-0.859256</td>\n",
       "      <td>-0.228939</td>\n",
       "      <td>BOLETAR_A_PARTIR_</td>\n",
       "      <td>-1.176686</td>\n",
       "      <td>nao_definido</td>\n",
       "      <td>3</td>\n",
       "      <td>0</td>\n",
       "      <td>HC</td>\n",
       "    </tr>\n",
       "  </tbody>\n",
       "</table>\n",
       "</div>"
      ],
      "text/plain": [
       "        scorecontratante  atrasocongelado  valorcartacampanha  \\\n",
       "103743          2.159811        -0.178011           -0.052298   \n",
       "81277           0.344661        -0.907916           -0.491754   \n",
       "91419          -0.283007         0.503233            0.013278   \n",
       "79446          -0.333899        -0.360488           -0.336068   \n",
       "41227          -0.995496        -0.859256           -0.228939   \n",
       "\n",
       "         status_boletagem  desconto           publico matriz  \\\n",
       "103743  BOLETAR_A_PARTIR_  0.425411  elegivel excecao      3   \n",
       "81277   BOLETAR_A_PARTIR_ -0.895106      nao_definido      3   \n",
       "91419   BOLETAR_A_PARTIR_ -0.449067      nao_definido      4   \n",
       "79446   BOLETAR_A_PARTIR_ -0.794368      nao_definido      3   \n",
       "41227   BOLETAR_A_PARTIR_ -1.176686      nao_definido      3   \n",
       "\n",
       "       tem_tel_no_bureau                    bandeira_loja  \n",
       "103743                 1  CC_TITULARES CARTOES DE CREDITO  \n",
       "81277                  1                               FC  \n",
       "91419                  0                               HC  \n",
       "79446                  1                               FC  \n",
       "41227                  0                               HC  "
      ]
     },
     "execution_count": 511,
     "metadata": {},
     "output_type": "execute_result"
    }
   ],
   "source": [
    "X.head()"
   ]
  },
  {
   "cell_type": "code",
   "execution_count": 528,
   "metadata": {},
   "outputs": [
    {
     "data": {
      "text/plain": [
       "Index(['scorecontratante', 'atrasocongelado', 'valorcartacampanha', 'desconto',\n",
       "       'status_boletagem_0', 'status_boletagem_BOLETAR_A_PARTIR_',\n",
       "       'status_boletagem_BOLETAR_A_VONTADE', 'publico_alto_atrito',\n",
       "       'publico_elegivel excecao', 'publico_nao_definido', 'matriz_1',\n",
       "       'matriz_2', 'matriz_3', 'matriz_4', 'tem_tel_no_bureau_0',\n",
       "       'tem_tel_no_bureau_1', 'bandeira_loja_CC_Cartao Cobranded Netshoes 2.0',\n",
       "       'bandeira_loja_CC_ITAUCARD 2.0 CANAIS DIRETOS',\n",
       "       'bandeira_loja_CC_OPERACOES CREDITO CREDICARD',\n",
       "       'bandeira_loja_CC_OUTROS', 'bandeira_loja_CC_PL PURO ITAUCARD LOJISTA',\n",
       "       'bandeira_loja_CC_TAM ITAUCARD 2.0',\n",
       "       'bandeira_loja_CC_TITULARES CARTOES DE CREDITO', 'bandeira_loja_CR',\n",
       "       'bandeira_loja_FC', 'bandeira_loja_HC', 'bandeira_loja_LC',\n",
       "       'bandeira_loja_MA'],\n",
       "      dtype='object')"
      ]
     },
     "execution_count": 528,
     "metadata": {},
     "output_type": "execute_result"
    }
   ],
   "source": [
    "X.columns"
   ]
  },
  {
   "cell_type": "code",
   "execution_count": 509,
   "metadata": {},
   "outputs": [],
   "source": [
    "y_train = Y\n",
    "X_train = X\n",
    "#y_test = df.Pagamentos.values\n",
    "#X_test = df[dummies.columns].values"
   ]
  },
  {
   "cell_type": "markdown",
   "metadata": {},
   "source": [
    "#### Treinando e predizendo com XgBoosting"
   ]
  },
  {
   "cell_type": "code",
   "execution_count": 492,
   "metadata": {},
   "outputs": [
    {
     "name": "stdout",
     "output_type": "stream",
     "text": [
      "Best: 0.717458 using {'min_samples_leaf': 5, 'n_estimators': 800, 'subsample': 0.1}\n",
      "Execution time: 0.0004305839538574219 ms\n"
     ]
    }
   ],
   "source": [
    "param_grid_xg = {\n",
    "        'n_estimators':[100,200,400,600,800,1000],\n",
    "        'min_samples_leaf':[5,7,10,20,30],\n",
    "        'subsample': [0.1,0.3,0.6, 0.8, 1.0]\n",
    "        }\n",
    "xg = GradientBoostingClassifier(learning_rate=0.01)\n",
    "grid_xg = GridSearchCV(estimator=xg, param_grid=param_grid_xg, cv=5, scoring='roc_auc', n_jobs=-1)\n",
    "grid_result_xg = grid_xg.fit(X_train, y_train)\n",
    "start_time = time.time()\n",
    "print(\"Best: %f using %s\" % (grid_result_xg.best_score_, grid_result_xg.best_params_))"
   ]
  },
  {
   "cell_type": "code",
   "execution_count": 464,
   "metadata": {},
   "outputs": [],
   "source": [
    "pred = grid_result_xg.predict_proba(X_train)\n",
    "df_predicted = X_train\n",
    "df_predicted['prob_prevista'] = pred[:,1]\n",
    "df_predicted['pago_real'] = Y.values\n",
    "df_predicted.to_csv(r'data\\xgboost_train_result_predict.csv', decimal=',', sep=\";\")"
   ]
  },
  {
   "cell_type": "code",
   "execution_count": 471,
   "metadata": {},
   "outputs": [
    {
     "data": {
      "text/html": [
       "<div>\n",
       "<style scoped>\n",
       "    .dataframe tbody tr th:only-of-type {\n",
       "        vertical-align: middle;\n",
       "    }\n",
       "\n",
       "    .dataframe tbody tr th {\n",
       "        vertical-align: top;\n",
       "    }\n",
       "\n",
       "    .dataframe thead th {\n",
       "        text-align: right;\n",
       "    }\n",
       "</style>\n",
       "<table border=\"1\" class=\"dataframe\">\n",
       "  <thead>\n",
       "    <tr style=\"text-align: right;\">\n",
       "      <th></th>\n",
       "      <th>Decil</th>\n",
       "      <th>Qtd</th>\n",
       "      <th>Prob prevista média</th>\n",
       "      <th>Pagantes</th>\n",
       "      <th>% de Pagantes</th>\n",
       "    </tr>\n",
       "  </thead>\n",
       "  <tbody>\n",
       "    <tr>\n",
       "      <th>0</th>\n",
       "      <td>1</td>\n",
       "      <td>11186</td>\n",
       "      <td>74.32</td>\n",
       "      <td>607</td>\n",
       "      <td>5.43</td>\n",
       "    </tr>\n",
       "    <tr>\n",
       "      <th>1</th>\n",
       "      <td>2</td>\n",
       "      <td>11186</td>\n",
       "      <td>66.70</td>\n",
       "      <td>318</td>\n",
       "      <td>2.84</td>\n",
       "    </tr>\n",
       "    <tr>\n",
       "      <th>2</th>\n",
       "      <td>3</td>\n",
       "      <td>11186</td>\n",
       "      <td>62.77</td>\n",
       "      <td>302</td>\n",
       "      <td>2.70</td>\n",
       "    </tr>\n",
       "    <tr>\n",
       "      <th>3</th>\n",
       "      <td>4</td>\n",
       "      <td>11186</td>\n",
       "      <td>59.30</td>\n",
       "      <td>314</td>\n",
       "      <td>2.81</td>\n",
       "    </tr>\n",
       "    <tr>\n",
       "      <th>4</th>\n",
       "      <td>5</td>\n",
       "      <td>11186</td>\n",
       "      <td>55.62</td>\n",
       "      <td>276</td>\n",
       "      <td>2.47</td>\n",
       "    </tr>\n",
       "    <tr>\n",
       "      <th>5</th>\n",
       "      <td>6</td>\n",
       "      <td>11186</td>\n",
       "      <td>51.20</td>\n",
       "      <td>221</td>\n",
       "      <td>1.98</td>\n",
       "    </tr>\n",
       "    <tr>\n",
       "      <th>6</th>\n",
       "      <td>7</td>\n",
       "      <td>11186</td>\n",
       "      <td>45.91</td>\n",
       "      <td>181</td>\n",
       "      <td>1.62</td>\n",
       "    </tr>\n",
       "    <tr>\n",
       "      <th>7</th>\n",
       "      <td>8</td>\n",
       "      <td>11186</td>\n",
       "      <td>40.62</td>\n",
       "      <td>140</td>\n",
       "      <td>1.25</td>\n",
       "    </tr>\n",
       "    <tr>\n",
       "      <th>8</th>\n",
       "      <td>9</td>\n",
       "      <td>11186</td>\n",
       "      <td>33.01</td>\n",
       "      <td>119</td>\n",
       "      <td>1.06</td>\n",
       "    </tr>\n",
       "    <tr>\n",
       "      <th>9</th>\n",
       "      <td>10</td>\n",
       "      <td>11183</td>\n",
       "      <td>21.04</td>\n",
       "      <td>75</td>\n",
       "      <td>0.67</td>\n",
       "    </tr>\n",
       "  </tbody>\n",
       "</table>\n",
       "</div>"
      ],
      "text/plain": [
       "   Decil    Qtd  Prob prevista média  Pagantes  % de Pagantes\n",
       "0      1  11186                74.32       607           5.43\n",
       "1      2  11186                66.70       318           2.84\n",
       "2      3  11186                62.77       302           2.70\n",
       "3      4  11186                59.30       314           2.81\n",
       "4      5  11186                55.62       276           2.47\n",
       "5      6  11186                51.20       221           1.98\n",
       "6      7  11186                45.91       181           1.62\n",
       "7      8  11186                40.62       140           1.25\n",
       "8      9  11186                33.01       119           1.06\n",
       "9     10  11183                21.04        75           0.67"
      ]
     },
     "execution_count": 471,
     "metadata": {},
     "output_type": "execute_result"
    }
   ],
   "source": [
    "df_conc = pd.DataFrame()\n",
    "df_conc = df_predicted[['prob_prevista','pago_real']]\n",
    "df_conc = df_conc.sort_values(by=['prob_prevista'],ascending=False)\n",
    "df_conc = df_conc.reset_index(drop=True)\n",
    "lista = []\n",
    "partes = math.ceil(len(df_conc)/10)\n",
    "for i in range(0,10):\n",
    "    ini = i*partes\n",
    "    fim = (i+1)*partes\n",
    "    qtd = len(df_conc.loc[ini:fim,:].pago_real)\n",
    "    lista.append([i+1,\n",
    "                  qtd,\n",
    "                  round(df_conc.loc[ini:fim,:].prob_prevista.mean()*100,2),\n",
    "                  df_conc.loc[ini:fim,:].pago_real.sum(),\n",
    "                  round(df_conc.loc[ini:fim,:].pago_real.sum()/qtd*100,2)])\n",
    "df_exibe = pd.DataFrame(lista,columns=['Decil','Qtd','Prob prevista média','Pagantes','% de Pagantes'])\n",
    "df_exibe"
   ]
  },
  {
   "cell_type": "markdown",
   "metadata": {},
   "source": [
    "#### Feature Importance"
   ]
  },
  {
   "cell_type": "code",
   "execution_count": 472,
   "metadata": {},
   "outputs": [
    {
     "data": {
      "image/png": "[encoded data removed]",
      "text/plain": [
       "<Figure size 432x288 with 1 Axes>"
      ]
     },
     "metadata": {
      "needs_background": "light"
     },
     "output_type": "display_data"
    }
   ],
   "source": [
    "pyplot.bar(range(len(grid_result_xg.best_estimator_.feature_importances_)), grid_result_xg.best_estimator_.feature_importances_)\n",
    "pyplot.xticks(range(len(grid_result_xg.best_estimator_.feature_importances_)),X.columns, rotation='vertical')\n",
    "pyplot.show()"
   ]
  },
  {
   "cell_type": "markdown",
   "metadata": {},
   "source": [
    "#### Salvando os Scalers e o Xgboosting"
   ]
  },
  {
   "cell_type": "code",
   "execution_count": 510,
   "metadata": {},
   "outputs": [
    {
     "data": {
      "text/plain": [
       "['models/xgboosting_a03.pkl']"
      ]
     },
     "execution_count": 510,
     "metadata": {},
     "output_type": "execute_result"
    }
   ],
   "source": [
    "joblib.dump(escalador_vlrcartacampanha, r\"models/scaler_vlrcartacampanha_a03.pkl\")\n",
    "joblib.dump(escalador_vlrdesconto, r\"models/scaler_vlrdesconto_a03.pkl\")\n",
    "joblib.dump(escalador_scorecontratante, r\"models/scaler_scorecontratante_a03.pkl\")\n",
    "joblib.dump(escalador_atrasocongelado, r\"models/scaler_atrasocongelado_a03.pkl\")\n",
    "joblib.dump(grid_result_xg, r\"models/xgboosting_a03.pkl\")"
   ]
  }
 ],
 "metadata": {
  "kernelspec": {
   "display_name": "Python 3",
   "language": "python",
   "name": "python3"
  },
  "language_info": {
   "codemirror_mode": {
    "name": "ipython",
    "version": 3
   },
   "file_extension": ".py",
   "mimetype": "text/x-python",
   "name": "python",
   "nbconvert_exporter": "python",
   "pygments_lexer": "ipython3",
   "version": "3.7.3"
  }
 },
 "nbformat": 4,
 "nbformat_minor": 2
}
